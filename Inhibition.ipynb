{
 "cells": [
  {
   "cell_type": "markdown",
   "metadata": {},
   "source": [
    "# Regresión lineal para encontrar efectos de inhibición"
   ]
  },
  {
   "cell_type": "markdown",
   "metadata": {},
   "source": [
    "Si se cuenta con datos experimentales de varios procesos fermentativos en los que se hayan variado las concentraciones iniciales, entonces el efecto de inhibición puede ser evaluado con gráficas Lineweaver-Burk. Para ello es necesario modificar la ecuación de Monod para que quede de la manera que se muestra en la ecuación:\n",
    "\n",
    "$$ \\frac{x}{\\mu}=\\frac{K_{si}}{\\mu_{mi}}\\left(\\frac{1}{s}\\right)+\\frac{1}{\\mu_{mi}} $$"
   ]
  },
  {
   "cell_type": "markdown",
   "metadata": {},
   "source": [
    "Esta modificación permitirá linealizar el modelo de crecimiento y cuando se grafiquen los modelos partiendo de datos experimentales con diferentes concentraciones, se generarán arreglos diferentes. Dependiendo el arreglo que presente podrá definirse qué tipo de inhibición existe en el proceso fermentativo."
   ]
  },
  {
   "cell_type": "code",
   "execution_count": 1,
   "metadata": {},
   "outputs": [],
   "source": [
    "import pandas as pd\n",
    "import numpy as np\n",
    "import matplotlib.pyplot as plt\n",
    "from pyomo.environ import *\n",
    "from sklearn.linear_model import LinearRegression"
   ]
  },
  {
   "cell_type": "code",
   "execution_count": 2,
   "metadata": {},
   "outputs": [],
   "source": [
    "data = pd.read_csv('data.csv')"
   ]
  },
  {
   "cell_type": "code",
   "execution_count": 3,
   "metadata": {},
   "outputs": [
    {
     "data": {
      "text/html": [
       "<div>\n",
       "<style scoped>\n",
       "    .dataframe tbody tr th:only-of-type {\n",
       "        vertical-align: middle;\n",
       "    }\n",
       "\n",
       "    .dataframe tbody tr th {\n",
       "        vertical-align: top;\n",
       "    }\n",
       "\n",
       "    .dataframe thead th {\n",
       "        text-align: right;\n",
       "    }\n",
       "</style>\n",
       "<table border=\"1\" class=\"dataframe\">\n",
       "  <thead>\n",
       "    <tr style=\"text-align: right;\">\n",
       "      <th></th>\n",
       "      <th>t</th>\n",
       "      <th>S</th>\n",
       "      <th>X</th>\n",
       "      <th>P</th>\n",
       "    </tr>\n",
       "  </thead>\n",
       "  <tbody>\n",
       "    <tr>\n",
       "      <th>0</th>\n",
       "      <td>0</td>\n",
       "      <td>187.8800</td>\n",
       "      <td>0.447337</td>\n",
       "      <td>1.4375</td>\n",
       "    </tr>\n",
       "    <tr>\n",
       "      <th>1</th>\n",
       "      <td>2</td>\n",
       "      <td>188.1025</td>\n",
       "      <td>0.821843</td>\n",
       "      <td>1.2825</td>\n",
       "    </tr>\n",
       "    <tr>\n",
       "      <th>2</th>\n",
       "      <td>4</td>\n",
       "      <td>185.5150</td>\n",
       "      <td>0.999299</td>\n",
       "      <td>1.9150</td>\n",
       "    </tr>\n",
       "    <tr>\n",
       "      <th>3</th>\n",
       "      <td>6</td>\n",
       "      <td>187.5525</td>\n",
       "      <td>1.271768</td>\n",
       "      <td>4.0775</td>\n",
       "    </tr>\n",
       "    <tr>\n",
       "      <th>4</th>\n",
       "      <td>8</td>\n",
       "      <td>175.6700</td>\n",
       "      <td>1.700620</td>\n",
       "      <td>8.8525</td>\n",
       "    </tr>\n",
       "    <tr>\n",
       "      <th>5</th>\n",
       "      <td>10</td>\n",
       "      <td>160.9575</td>\n",
       "      <td>2.513960</td>\n",
       "      <td>16.0000</td>\n",
       "    </tr>\n",
       "    <tr>\n",
       "      <th>6</th>\n",
       "      <td>12</td>\n",
       "      <td>149.8950</td>\n",
       "      <td>2.935418</td>\n",
       "      <td>24.4775</td>\n",
       "    </tr>\n",
       "    <tr>\n",
       "      <th>7</th>\n",
       "      <td>15</td>\n",
       "      <td>116.9600</td>\n",
       "      <td>3.127662</td>\n",
       "      <td>40.1375</td>\n",
       "    </tr>\n",
       "    <tr>\n",
       "      <th>8</th>\n",
       "      <td>18</td>\n",
       "      <td>86.3550</td>\n",
       "      <td>3.135056</td>\n",
       "      <td>47.6800</td>\n",
       "    </tr>\n",
       "    <tr>\n",
       "      <th>9</th>\n",
       "      <td>21</td>\n",
       "      <td>63.4575</td>\n",
       "      <td>4.547310</td>\n",
       "      <td>60.0050</td>\n",
       "    </tr>\n",
       "    <tr>\n",
       "      <th>10</th>\n",
       "      <td>24</td>\n",
       "      <td>43.3550</td>\n",
       "      <td>4.628644</td>\n",
       "      <td>68.0050</td>\n",
       "    </tr>\n",
       "    <tr>\n",
       "      <th>11</th>\n",
       "      <td>28</td>\n",
       "      <td>22.9300</td>\n",
       "      <td>4.613856</td>\n",
       "      <td>78.5400</td>\n",
       "    </tr>\n",
       "    <tr>\n",
       "      <th>12</th>\n",
       "      <td>32</td>\n",
       "      <td>10.6425</td>\n",
       "      <td>5.050102</td>\n",
       "      <td>84.8025</td>\n",
       "    </tr>\n",
       "    <tr>\n",
       "      <th>13</th>\n",
       "      <td>36</td>\n",
       "      <td>9.4950</td>\n",
       "      <td>4.931798</td>\n",
       "      <td>87.4075</td>\n",
       "    </tr>\n",
       "  </tbody>\n",
       "</table>\n",
       "</div>"
      ],
      "text/plain": [
       "     t         S         X        P\n",
       "0    0  187.8800  0.447337   1.4375\n",
       "1    2  188.1025  0.821843   1.2825\n",
       "2    4  185.5150  0.999299   1.9150\n",
       "3    6  187.5525  1.271768   4.0775\n",
       "4    8  175.6700  1.700620   8.8525\n",
       "5   10  160.9575  2.513960  16.0000\n",
       "6   12  149.8950  2.935418  24.4775\n",
       "7   15  116.9600  3.127662  40.1375\n",
       "8   18   86.3550  3.135056  47.6800\n",
       "9   21   63.4575  4.547310  60.0050\n",
       "10  24   43.3550  4.628644  68.0050\n",
       "11  28   22.9300  4.613856  78.5400\n",
       "12  32   10.6425  5.050102  84.8025\n",
       "13  36    9.4950  4.931798  87.4075"
      ]
     },
     "execution_count": 3,
     "metadata": {},
     "output_type": "execute_result"
    }
   ],
   "source": [
    "data = data.drop('Unnamed: 0', axis=1)\n",
    "data"
   ]
  },
  {
   "cell_type": "code",
   "execution_count": 4,
   "metadata": {},
   "outputs": [
    {
     "data": {
      "text/html": [
       "<div>\n",
       "<style scoped>\n",
       "    .dataframe tbody tr th:only-of-type {\n",
       "        vertical-align: middle;\n",
       "    }\n",
       "\n",
       "    .dataframe tbody tr th {\n",
       "        vertical-align: top;\n",
       "    }\n",
       "\n",
       "    .dataframe thead th {\n",
       "        text-align: right;\n",
       "    }\n",
       "</style>\n",
       "<table border=\"1\" class=\"dataframe\">\n",
       "  <thead>\n",
       "    <tr style=\"text-align: right;\">\n",
       "      <th></th>\n",
       "      <th>t</th>\n",
       "      <th>S</th>\n",
       "      <th>X</th>\n",
       "      <th>P</th>\n",
       "      <th>Td</th>\n",
       "      <th>growth</th>\n",
       "    </tr>\n",
       "  </thead>\n",
       "  <tbody>\n",
       "    <tr>\n",
       "      <th>0</th>\n",
       "      <td>0</td>\n",
       "      <td>187.8800</td>\n",
       "      <td>0.447337</td>\n",
       "      <td>1.4375</td>\n",
       "      <td>NaN</td>\n",
       "      <td>NaN</td>\n",
       "    </tr>\n",
       "    <tr>\n",
       "      <th>1</th>\n",
       "      <td>2</td>\n",
       "      <td>188.1025</td>\n",
       "      <td>0.821843</td>\n",
       "      <td>1.2825</td>\n",
       "      <td>2.280524</td>\n",
       "      <td>0.303942</td>\n",
       "    </tr>\n",
       "    <tr>\n",
       "      <th>2</th>\n",
       "      <td>4</td>\n",
       "      <td>185.5150</td>\n",
       "      <td>0.999299</td>\n",
       "      <td>1.9150</td>\n",
       "      <td>3.451604</td>\n",
       "      <td>0.200819</td>\n",
       "    </tr>\n",
       "    <tr>\n",
       "      <th>3</th>\n",
       "      <td>6</td>\n",
       "      <td>187.5525</td>\n",
       "      <td>1.271768</td>\n",
       "      <td>4.0775</td>\n",
       "      <td>3.982671</td>\n",
       "      <td>0.174041</td>\n",
       "    </tr>\n",
       "    <tr>\n",
       "      <th>4</th>\n",
       "      <td>8</td>\n",
       "      <td>175.6700</td>\n",
       "      <td>1.700620</td>\n",
       "      <td>8.8525</td>\n",
       "      <td>4.154747</td>\n",
       "      <td>0.166833</td>\n",
       "    </tr>\n",
       "    <tr>\n",
       "      <th>5</th>\n",
       "      <td>10</td>\n",
       "      <td>160.9575</td>\n",
       "      <td>2.513960</td>\n",
       "      <td>16.0000</td>\n",
       "      <td>4.017545</td>\n",
       "      <td>0.172530</td>\n",
       "    </tr>\n",
       "    <tr>\n",
       "      <th>6</th>\n",
       "      <td>12</td>\n",
       "      <td>149.8950</td>\n",
       "      <td>2.935418</td>\n",
       "      <td>24.4775</td>\n",
       "      <td>4.423871</td>\n",
       "      <td>0.156683</td>\n",
       "    </tr>\n",
       "    <tr>\n",
       "      <th>7</th>\n",
       "      <td>15</td>\n",
       "      <td>116.9600</td>\n",
       "      <td>3.127662</td>\n",
       "      <td>40.1375</td>\n",
       "      <td>5.349458</td>\n",
       "      <td>0.129573</td>\n",
       "    </tr>\n",
       "    <tr>\n",
       "      <th>8</th>\n",
       "      <td>18</td>\n",
       "      <td>86.3550</td>\n",
       "      <td>3.135056</td>\n",
       "      <td>47.6800</td>\n",
       "      <td>6.411565</td>\n",
       "      <td>0.108109</td>\n",
       "    </tr>\n",
       "    <tr>\n",
       "      <th>9</th>\n",
       "      <td>21</td>\n",
       "      <td>63.4575</td>\n",
       "      <td>4.547310</td>\n",
       "      <td>60.0050</td>\n",
       "      <td>6.280585</td>\n",
       "      <td>0.110363</td>\n",
       "    </tr>\n",
       "    <tr>\n",
       "      <th>10</th>\n",
       "      <td>24</td>\n",
       "      <td>43.3550</td>\n",
       "      <td>4.628644</td>\n",
       "      <td>68.0050</td>\n",
       "      <td>7.123355</td>\n",
       "      <td>0.097306</td>\n",
       "    </tr>\n",
       "    <tr>\n",
       "      <th>11</th>\n",
       "      <td>28</td>\n",
       "      <td>22.9300</td>\n",
       "      <td>4.613856</td>\n",
       "      <td>78.5400</td>\n",
       "      <td>8.321977</td>\n",
       "      <td>0.083291</td>\n",
       "    </tr>\n",
       "    <tr>\n",
       "      <th>12</th>\n",
       "      <td>32</td>\n",
       "      <td>10.6425</td>\n",
       "      <td>5.050102</td>\n",
       "      <td>84.8025</td>\n",
       "      <td>9.156333</td>\n",
       "      <td>0.075701</td>\n",
       "    </tr>\n",
       "    <tr>\n",
       "      <th>13</th>\n",
       "      <td>36</td>\n",
       "      <td>9.4950</td>\n",
       "      <td>4.931798</td>\n",
       "      <td>87.4075</td>\n",
       "      <td>10.402610</td>\n",
       "      <td>0.066632</td>\n",
       "    </tr>\n",
       "  </tbody>\n",
       "</table>\n",
       "</div>"
      ],
      "text/plain": [
       "     t         S         X        P         Td    growth\n",
       "0    0  187.8800  0.447337   1.4375        NaN       NaN\n",
       "1    2  188.1025  0.821843   1.2825   2.280524  0.303942\n",
       "2    4  185.5150  0.999299   1.9150   3.451604  0.200819\n",
       "3    6  187.5525  1.271768   4.0775   3.982671  0.174041\n",
       "4    8  175.6700  1.700620   8.8525   4.154747  0.166833\n",
       "5   10  160.9575  2.513960  16.0000   4.017545  0.172530\n",
       "6   12  149.8950  2.935418  24.4775   4.423871  0.156683\n",
       "7   15  116.9600  3.127662  40.1375   5.349458  0.129573\n",
       "8   18   86.3550  3.135056  47.6800   6.411565  0.108109\n",
       "9   21   63.4575  4.547310  60.0050   6.280585  0.110363\n",
       "10  24   43.3550  4.628644  68.0050   7.123355  0.097306\n",
       "11  28   22.9300  4.613856  78.5400   8.321977  0.083291\n",
       "12  32   10.6425  5.050102  84.8025   9.156333  0.075701\n",
       "13  36    9.4950  4.931798  87.4075  10.402610  0.066632"
      ]
     },
     "execution_count": 4,
     "metadata": {},
     "output_type": "execute_result"
    }
   ],
   "source": [
    "data['Td'] = (data['t'])/(3.32*np.log10(data['X']/data.loc[0, 'X']))\n",
    "data['growth'] = np.log(2)/data['Td']\n",
    "data"
   ]
  },
  {
   "cell_type": "markdown",
   "metadata": {},
   "source": [
    "A fin de verificar si existe un efecto de inhibición por sustrato y por producto, se realizó un análisis gráfico empleando el método de Lineweaver-Burk, que consistió en linealizar el modelo, utilizando la ecuación de inhibición (Han y Levenspiel, 1988) y analizar el gráfico resultante. La modificación de los datos se llevó a cabo implementando bucles, operaciones simples y creando listas en Python. La linealización del modelo se realizó empleando el método de regresión lineal de la librería Sklearn, que permite aplicar el método con el comando LinearRegression().fit(xdata, ydata).  "
   ]
  },
  {
   "cell_type": "code",
   "execution_count": 5,
   "metadata": {},
   "outputs": [],
   "source": [
    "X = data.loc[1:,'X'].tolist()\n",
    "S = data.loc[1:,'S'].tolist()\n",
    "u = data.loc[1:,'growth'].tolist()"
   ]
  },
  {
   "cell_type": "code",
   "execution_count": 6,
   "metadata": {},
   "outputs": [
    {
     "data": {
      "text/plain": [
       "array([ 2.70394604,  4.97612199,  7.307299  , 10.19357099, 14.57114467,\n",
       "       18.73470776, 24.13816033, 28.99905899, 41.20303461, 47.56778232,\n",
       "       55.39430305, 66.71081776, 74.01540863])"
      ]
     },
     "execution_count": 6,
     "metadata": {},
     "output_type": "execute_result"
    }
   ],
   "source": [
    "xu = []\n",
    "for i in range(len(X)):\n",
    "    xou = X[i] / u[i]\n",
    "    xu.append(xou)\n",
    "    \n",
    "xu = np.asarray(xu)\n",
    "xu"
   ]
  },
  {
   "cell_type": "code",
   "execution_count": 7,
   "metadata": {},
   "outputs": [
    {
     "data": {
      "text/plain": [
       "array([0.00531625, 0.0053904 , 0.00533184, 0.00569249, 0.00621282,\n",
       "       0.00667134, 0.00854993, 0.01158011, 0.01575858, 0.02306539,\n",
       "       0.04361099, 0.09396288, 0.10531859])"
      ]
     },
     "execution_count": 7,
     "metadata": {},
     "output_type": "execute_result"
    }
   ],
   "source": [
    "invS = []\n",
    "for i in range(len(S)):\n",
    "    inv = 1 / S[i]\n",
    "    invS.append(inv)\n",
    "    \n",
    "invS = np.asarray(invS)\n",
    "invS"
   ]
  },
  {
   "cell_type": "code",
   "execution_count": 8,
   "metadata": {},
   "outputs": [],
   "source": [
    "xudata = np.reshape(xu,(-1, 1))\n",
    "isdata = np.reshape(invS, (-1, 1))"
   ]
  },
  {
   "cell_type": "code",
   "execution_count": 9,
   "metadata": {},
   "outputs": [],
   "source": [
    "regressor = LinearRegression()\n",
    "regressor.fit(isdata, xudata)\n",
    "\n",
    "xoupred = regressor.predict(isdata)\n"
   ]
  },
  {
   "cell_type": "code",
   "execution_count": 10,
   "metadata": {},
   "outputs": [
    {
     "data": {
      "text/html": [
       "<div>\n",
       "<style scoped>\n",
       "    .dataframe tbody tr th:only-of-type {\n",
       "        vertical-align: middle;\n",
       "    }\n",
       "\n",
       "    .dataframe tbody tr th {\n",
       "        vertical-align: top;\n",
       "    }\n",
       "\n",
       "    .dataframe thead th {\n",
       "        text-align: right;\n",
       "    }\n",
       "</style>\n",
       "<table border=\"1\" class=\"dataframe\">\n",
       "  <thead>\n",
       "    <tr style=\"text-align: right;\">\n",
       "      <th></th>\n",
       "      <th>X</th>\n",
       "      <th>S</th>\n",
       "      <th>growth</th>\n",
       "    </tr>\n",
       "  </thead>\n",
       "  <tbody>\n",
       "    <tr>\n",
       "      <th>0</th>\n",
       "      <td>1.043663</td>\n",
       "      <td>163.5975</td>\n",
       "      <td>0.171977</td>\n",
       "    </tr>\n",
       "    <tr>\n",
       "      <th>1</th>\n",
       "      <td>1.063257</td>\n",
       "      <td>164.7800</td>\n",
       "      <td>0.090636</td>\n",
       "    </tr>\n",
       "    <tr>\n",
       "      <th>2</th>\n",
       "      <td>1.210767</td>\n",
       "      <td>165.1550</td>\n",
       "      <td>0.082064</td>\n",
       "    </tr>\n",
       "    <tr>\n",
       "      <th>3</th>\n",
       "      <td>1.770863</td>\n",
       "      <td>157.8950</td>\n",
       "      <td>0.109047</td>\n",
       "    </tr>\n",
       "    <tr>\n",
       "      <th>4</th>\n",
       "      <td>2.018562</td>\n",
       "      <td>139.7975</td>\n",
       "      <td>0.100322</td>\n",
       "    </tr>\n",
       "    <tr>\n",
       "      <th>5</th>\n",
       "      <td>2.624870</td>\n",
       "      <td>129.4550</td>\n",
       "      <td>0.105476</td>\n",
       "    </tr>\n",
       "    <tr>\n",
       "      <th>6</th>\n",
       "      <td>3.016752</td>\n",
       "      <td>111.6725</td>\n",
       "      <td>0.093652</td>\n",
       "    </tr>\n",
       "    <tr>\n",
       "      <th>7</th>\n",
       "      <td>3.608272</td>\n",
       "      <td>87.4875</td>\n",
       "      <td>0.087985</td>\n",
       "    </tr>\n",
       "    <tr>\n",
       "      <th>8</th>\n",
       "      <td>3.955790</td>\n",
       "      <td>65.9000</td>\n",
       "      <td>0.079792</td>\n",
       "    </tr>\n",
       "    <tr>\n",
       "      <th>9</th>\n",
       "      <td>4.458582</td>\n",
       "      <td>47.1075</td>\n",
       "      <td>0.074800</td>\n",
       "    </tr>\n",
       "    <tr>\n",
       "      <th>10</th>\n",
       "      <td>4.746948</td>\n",
       "      <td>24.1200</td>\n",
       "      <td>0.066351</td>\n",
       "    </tr>\n",
       "    <tr>\n",
       "      <th>11</th>\n",
       "      <td>4.791312</td>\n",
       "      <td>10.3675</td>\n",
       "      <td>0.058348</td>\n",
       "    </tr>\n",
       "    <tr>\n",
       "      <th>12</th>\n",
       "      <td>4.576886</td>\n",
       "      <td>4.5800</td>\n",
       "      <td>0.050594</td>\n",
       "    </tr>\n",
       "  </tbody>\n",
       "</table>\n",
       "</div>"
      ],
      "text/plain": [
       "           X         S    growth\n",
       "0   1.043663  163.5975  0.171977\n",
       "1   1.063257  164.7800  0.090636\n",
       "2   1.210767  165.1550  0.082064\n",
       "3   1.770863  157.8950  0.109047\n",
       "4   2.018562  139.7975  0.100322\n",
       "5   2.624870  129.4550  0.105476\n",
       "6   3.016752  111.6725  0.093652\n",
       "7   3.608272   87.4875  0.087985\n",
       "8   3.955790   65.9000  0.079792\n",
       "9   4.458582   47.1075  0.074800\n",
       "10  4.746948   24.1200  0.066351\n",
       "11  4.791312   10.3675  0.058348\n",
       "12  4.576886    4.5800  0.050594"
      ]
     },
     "execution_count": 10,
     "metadata": {},
     "output_type": "execute_result"
    }
   ],
   "source": [
    "data2 = pd.read_csv('data2.csv')\n",
    "data2 = data2.drop('Unnamed: 0', axis=1)\n",
    "data2"
   ]
  },
  {
   "cell_type": "code",
   "execution_count": 11,
   "metadata": {},
   "outputs": [],
   "source": [
    "X2 = data2.loc[1:,'X'].tolist()\n",
    "S2 = data2.loc[1:,'S'].tolist()\n",
    "u2 = data2.loc[1:,'growth'].tolist()"
   ]
  },
  {
   "cell_type": "code",
   "execution_count": 12,
   "metadata": {},
   "outputs": [
    {
     "data": {
      "text/plain": [
       "array([11.731107  , 14.75391634, 16.23943381, 20.12084877, 24.88593264,\n",
       "       32.21233107, 41.01019546, 49.57652308, 59.60655982, 71.54254038,\n",
       "       82.11611814, 90.46334475])"
      ]
     },
     "execution_count": 12,
     "metadata": {},
     "output_type": "execute_result"
    }
   ],
   "source": [
    "xu2 = []\n",
    "for i in range(len(X2)):\n",
    "    xou2 = X2[i] / u2[i]\n",
    "    xu2.append(xou2)\n",
    "    \n",
    "xu2 = np.asarray(xu2)\n",
    "xu2"
   ]
  },
  {
   "cell_type": "code",
   "execution_count": 13,
   "metadata": {},
   "outputs": [
    {
     "data": {
      "text/plain": [
       "array([0.0060687 , 0.00605492, 0.00633332, 0.0071532 , 0.00772469,\n",
       "       0.00895476, 0.0114302 , 0.01517451, 0.02122804, 0.04145937,\n",
       "       0.09645527, 0.21834061])"
      ]
     },
     "execution_count": 13,
     "metadata": {},
     "output_type": "execute_result"
    }
   ],
   "source": [
    "invS2 = []\n",
    "for i in range(len(S2)):\n",
    "    inv2 = 1 / S2[i]\n",
    "    invS2.append(inv2)\n",
    "    \n",
    "invS2 = np.asarray(invS2)\n",
    "invS2"
   ]
  },
  {
   "cell_type": "code",
   "execution_count": 14,
   "metadata": {},
   "outputs": [],
   "source": [
    "xudata2 = np.reshape(xu2,(-1, 1))\n",
    "isdata2 = np.reshape(invS2, (-1, 1))"
   ]
  },
  {
   "cell_type": "code",
   "execution_count": 15,
   "metadata": {},
   "outputs": [],
   "source": [
    "regressor = LinearRegression()\n",
    "regressor.fit(isdata2, xudata2)\n",
    "\n",
    "xoupred2 = regressor.predict(isdata2)"
   ]
  },
  {
   "cell_type": "code",
   "execution_count": 16,
   "metadata": {},
   "outputs": [],
   "source": [
    "%matplotlib inline"
   ]
  },
  {
   "cell_type": "code",
   "execution_count": 17,
   "metadata": {
    "scrolled": true
   },
   "outputs": [
    {
     "data": {
      "text/plain": [
       "<function matplotlib.pyplot.show(*args, **kw)>"
      ]
     },
     "execution_count": 17,
     "metadata": {},
     "output_type": "execute_result"
    },
    {
     "data": {
      "image/png": "[encoded data removed]",
      "text/plain": [
       "<Figure size 432x288 with 1 Axes>"
      ]
     },
     "metadata": {
      "needs_background": "light"
     },
     "output_type": "display_data"
    }
   ],
   "source": [
    "plt.plot(isdata, xoupred, label='X0 = 0.44')\n",
    "plt.plot(isdata2, xoupred2, label='X0 = 0.74')\n",
    "plt.xlabel('1/S (l/g)')\n",
    "plt.ylabel('X/u g/l h')\n",
    "plt.legend()\n",
    "plt.grid()\n",
    "plt.savefig('Inhibición', dpi=300)\n",
    "plt.show"
   ]
  },
  {
   "cell_type": "markdown",
   "metadata": {},
   "source": [
    "### Conclusión\n",
    "\n",
    "La linearización del modelo permute verificar que existe un efecto de inhibición en el proceso."
   ]
  }
 ],
 "metadata": {
  "kernelspec": {
   "display_name": "Python 3",
   "language": "python",
   "name": "python3"
  },
  "language_info": {
   "codemirror_mode": {
    "name": "ipython",
    "version": 3
   },
   "file_extension": ".py",
   "mimetype": "text/x-python",
   "name": "python",
   "nbconvert_exporter": "python",
   "pygments_lexer": "ipython3",
   "version": "3.8.3"
  }
 },
 "nbformat": 4,
 "nbformat_minor": 4
}
