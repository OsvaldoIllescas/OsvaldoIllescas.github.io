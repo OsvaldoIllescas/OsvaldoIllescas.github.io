{
 "cells": [
  {
   "cell_type": "markdown",
   "metadata": {},
   "source": [
    "# Profitable App Profiles for the App Sotre and Google Play Market\n",
    "The main goal for this project is to analize data from App Store and Google Play Market in order to help a company that builds free apps to make data-driven decision. The company has revenue for in-app adds, so the amount of revenue depends on how many users has our app."
   ]
  },
  {
   "cell_type": "markdown",
   "metadata": {},
   "source": [
    "The next cell will open both data sets and convert them into a list of list:"
   ]
  },
  {
   "cell_type": "code",
   "execution_count": 1,
   "metadata": {
    "collapsed": false
   },
   "outputs": [],
   "source": [
    "App_Store_set = open('AppleStore.csv')\n",
    "Google_Play_set = open('googleplaystore.csv')\n",
    "\n",
    "from csv import reader\n",
    "\n",
    "App_Store_read = reader(App_Store_set)\n",
    "Google_Play_read = reader(Google_Play_set)\n",
    "\n",
    "App_Store_data = list(App_Store_read)\n",
    "Google_Play_data = list(Google_Play_read)"
   ]
  },
  {
   "cell_type": "markdown",
   "metadata": {},
   "source": [
    "Both datasets have headers, so we will remove and save them for future reference in next cell:"
   ]
  },
  {
   "cell_type": "code",
   "execution_count": 2,
   "metadata": {
    "collapsed": false,
    "scrolled": true
   },
   "outputs": [],
   "source": [
    "google_header = Google_Play_data[0]\n",
    "apple_header = App_Store_data[0]"
   ]
  },
  {
   "cell_type": "code",
   "execution_count": 3,
   "metadata": {
    "collapsed": true
   },
   "outputs": [],
   "source": [
    "del Google_Play_data[0]\n",
    "del App_Store_data[0]"
   ]
  },
  {
   "cell_type": "markdown",
   "metadata": {},
   "source": [
    "Also, while reading discussion about the Google Play Market data set (you can read about it [here](https://www.kaggle.com/lava18/google-play-store-apps/discussion)) we can read that there is an error in an specific entry. We will proceed to delete that entry too, to avoid errors:"
   ]
  },
  {
   "cell_type": "code",
   "execution_count": 4,
   "metadata": {
    "collapsed": true
   },
   "outputs": [],
   "source": [
    "del Google_Play_data[10472]"
   ]
  },
  {
   "cell_type": "markdown",
   "metadata": {},
   "source": [
    "We will now define a new function, that will help us to analize data by slicing a part of the list:"
   ]
  },
  {
   "cell_type": "code",
   "execution_count": 5,
   "metadata": {
    "collapsed": false
   },
   "outputs": [],
   "source": [
    "def explore_data(dataset, first, last, rows_and_columns=False):\n",
    "    slicing = dataset[first:last]\n",
    "    for app in slicing:\n",
    "        print(app)\n",
    "        print('\\n')\n",
    "        \n",
    "    if rows_and_columns:\n",
    "        print('Number of rows: ', len(dataset))\n",
    "        print('Number of columns: ', len(dataset[0]))"
   ]
  },
  {
   "cell_type": "code",
   "execution_count": 6,
   "metadata": {
    "collapsed": false,
    "scrolled": true
   },
   "outputs": [
    {
     "name": "stdout",
     "output_type": "stream",
     "text": [
      "['512939461', 'Subway Surfers', '156038144', 'USD', '0.0', '706110', '97', '4.5', '4.0', '1.72.1', '9+', 'Games', '38', '5', '1', '1']\n",
      "\n",
      "\n",
      "['362949845', 'Fruit Ninja Classic', '104590336', 'USD', '1.99', '698516', '132', '4.5', '4.0', '2.3.9', '4+', 'Games', '38', '5', '13', '1']\n",
      "\n",
      "\n",
      "Number of rows:  7197\n",
      "Number of columns:  16\n"
     ]
    }
   ],
   "source": [
    "explore_data(App_Store_data, 10, 12, rows_and_columns=True)"
   ]
  },
  {
   "cell_type": "markdown",
   "metadata": {},
   "source": [
    "If we keep reading about our Google Play dataset, we will find out that it has duplicate entries, that is, there are apps that appear two times in our dataset. We can confirm that by running next cell:"
   ]
  },
  {
   "cell_type": "code",
   "execution_count": 7,
   "metadata": {
    "collapsed": false
   },
   "outputs": [],
   "source": [
    "unique_names = []\n",
    "duplicated_names = []\n",
    "\n",
    "for app in Google_Play_data[1:]:\n",
    "    name = app[0]\n",
    "    if name in unique_names:\n",
    "        duplicated_names.append(name)\n",
    "    else:\n",
    "        unique_names.append(name)"
   ]
  },
  {
   "cell_type": "markdown",
   "metadata": {},
   "source": [
    "We need to remove duplicate entries but not any entry will work for us, so we will keep those with the highest number of reviews. We will find the entry with most reviews in next cell:"
   ]
  },
  {
   "cell_type": "code",
   "execution_count": 8,
   "metadata": {
    "collapsed": false
   },
   "outputs": [],
   "source": [
    "reviews_max = {}\n",
    "\n",
    "for app in Google_Play_data:\n",
    "    name = app[0]\n",
    "    n_reviews = float(app[2])\n",
    "    if name in reviews_max and reviews_max[name] < n_reviews:\n",
    "        reviews_max[name] = n_reviews\n",
    "    elif name not in reviews_max:\n",
    "        reviews_max[name] = n_reviews\n",
    "        "
   ]
  },
  {
   "cell_type": "markdown",
   "metadata": {},
   "source": [
    "We will then remove duplicate rows:"
   ]
  },
  {
   "cell_type": "code",
   "execution_count": 9,
   "metadata": {
    "collapsed": false
   },
   "outputs": [],
   "source": [
    "android_clean = []\n",
    "already_added = []\n",
    "\n",
    "for app in Google_Play_data:\n",
    "    name = app[0]\n",
    "    n_reviews = float(app[2])\n",
    "    if (n_reviews == reviews_max[name]) and (name not in already_added):\n",
    "        android_clean.append(app)\n",
    "        already_added.append(name)"
   ]
  },
  {
   "cell_type": "markdown",
   "metadata": {},
   "source": [
    "We are also aiming only to apps for a english-speakers audience. We can check whether an app´s name is inenglish using next cell:"
   ]
  },
  {
   "cell_type": "code",
   "execution_count": 10,
   "metadata": {
    "collapsed": false
   },
   "outputs": [],
   "source": [
    "def english_app(name):\n",
    "    ascii_char = 0\n",
    "    for i in name:\n",
    "        if ord(i) > 127:\n",
    "            ascii_char += 1\n",
    "    if ascii_char >3:\n",
    "        return False\n",
    "    else:\n",
    "        return True"
   ]
  },
  {
   "cell_type": "code",
   "execution_count": 11,
   "metadata": {
    "collapsed": false
   },
   "outputs": [
    {
     "data": {
      "text/plain": [
       "True"
      ]
     },
     "execution_count": 11,
     "metadata": {},
     "output_type": "execute_result"
    }
   ],
   "source": [
    "english_app('Docs To Go™ Free Office Suite')"
   ]
  },
  {
   "cell_type": "markdown",
   "metadata": {},
   "source": [
    "Using english_app function we can now separate apps for english-speakers in a different list. We do that in next cell:"
   ]
  },
  {
   "cell_type": "code",
   "execution_count": 12,
   "metadata": {
    "collapsed": false
   },
   "outputs": [],
   "source": [
    "english_android = []\n",
    "english_apple = []\n",
    "\n",
    "for app in android_clean:\n",
    "    name = app[0]\n",
    "    if english_app(name) == True:\n",
    "        english_android.append(app)\n",
    "\n",
    "for app in App_Store_data:\n",
    "    name = app[1]\n",
    "    if english_app(name) == True:\n",
    "        english_apple.append(app)"
   ]
  },
  {
   "cell_type": "markdown",
   "metadata": {},
   "source": [
    "Since we are aiming for free apps, we need to separate free apps from paid apps, as shown in next cell:"
   ]
  },
  {
   "cell_type": "code",
   "execution_count": 13,
   "metadata": {
    "collapsed": false
   },
   "outputs": [],
   "source": [
    "free_apps_Android = []\n",
    "paid_apps_Android = []\n",
    "\n",
    "for app in english_android:\n",
    "    price = app[6]\n",
    "    if price == 'Free':\n",
    "        free_apps_Android.append(app)\n",
    "    else:\n",
    "        paid_apps_Android.append(app)\n",
    "\n",
    "free_apps_Apple = []\n",
    "paid_apps_Apple = []\n",
    "\n",
    "for app in english_apple:\n",
    "    price = float(app[4])\n",
    "    if price == 0:\n",
    "        free_apps_Apple.append(app)\n",
    "    else:\n",
    "        paid_apps_Apple.append(app)"
   ]
  },
  {
   "cell_type": "markdown",
   "metadata": {},
   "source": [
    "After cleaning data, we can now analyze both datasets in order to find a app profile that fits in both App Store and Google Play. Here is our plan:\n",
    "* Build a minimal Android version of the app, and add it ti Google Play\n",
    "* If the app has a good response from users, we develop it further\n",
    "* If the app is profitable after six months, we build iOS version of the app and add it fo the App Store\n",
    "\n",
    "Let's check both datasets' headers"
   ]
  },
  {
   "cell_type": "code",
   "execution_count": 14,
   "metadata": {
    "collapsed": false
   },
   "outputs": [
    {
     "data": {
      "text/plain": [
       "['App',\n",
       " 'Category',\n",
       " 'Rating',\n",
       " 'Reviews',\n",
       " 'Size',\n",
       " 'Installs',\n",
       " 'Type',\n",
       " 'Price',\n",
       " 'Content Rating',\n",
       " 'Genres',\n",
       " 'Last Updated',\n",
       " 'Current Ver',\n",
       " 'Android Ver']"
      ]
     },
     "execution_count": 14,
     "metadata": {},
     "output_type": "execute_result"
    }
   ],
   "source": [
    "google_header"
   ]
  },
  {
   "cell_type": "code",
   "execution_count": 15,
   "metadata": {
    "collapsed": false
   },
   "outputs": [
    {
     "data": {
      "text/plain": [
       "['id',\n",
       " 'track_name',\n",
       " 'size_bytes',\n",
       " 'currency',\n",
       " 'price',\n",
       " 'rating_count_tot',\n",
       " 'rating_count_ver',\n",
       " 'user_rating',\n",
       " 'user_rating_ver',\n",
       " 'ver',\n",
       " 'cont_rating',\n",
       " 'prime_genre',\n",
       " 'sup_devices.num',\n",
       " 'ipadSc_urls.num',\n",
       " 'lang.num',\n",
       " 'vpp_lic']"
      ]
     },
     "execution_count": 15,
     "metadata": {},
     "output_type": "execute_result"
    }
   ],
   "source": [
    "apple_header"
   ]
  },
  {
   "cell_type": "markdown",
   "metadata": {},
   "source": [
    "As we mentioned in the introduction, our aim is to determine the kinds of apps that are likely to attract more users because our revenue is highly influenced by the number of people using our apps.\n",
    "\n",
    "To minimize risks and overhead, our validation strategy for an app idea is comprised of three steps:\n",
    "\n",
    "- Build a minimal Android version of the app, and add it to Google Play.\n",
    "- If the app has a good response from users, we then develop it further.\n",
    "- If the app is profitable after six months, we also build an iOS version of the app and add it to the App Store.\n",
    "\n",
    "Because our end goal is to add the app on both the App Store and Google Play, we need to find app profiles that are successful on both markets. For instance, a profile that might work well for both markets might be a productivity app that makes use of gamification.\n",
    "\n",
    "Let's begin the analysis by getting a sense of the most common genres for each market. For this, we'll build a frequency table for the prime_genre column of the App Store data set, and the Genres and Category columns of the Google Play data set."
   ]
  },
  {
   "cell_type": "markdown",
   "metadata": {},
   "source": [
    "We'll build two functions we can use to analyze the frequency tables:\n",
    "\n",
    "1. One function to generate frequency tables that show percentages\n",
    "2. Another function that we can use to display the percentages in a descending order"
   ]
  },
  {
   "cell_type": "code",
   "execution_count": 16,
   "metadata": {
    "collapsed": true
   },
   "outputs": [],
   "source": [
    "def freq_table(dataset, index):\n",
    "    total = 0\n",
    "    freq_dict = {}\n",
    "    for app in dataset:\n",
    "        total+= 1\n",
    "        genre = app[index]\n",
    "        if genre in freq_dict:\n",
    "            freq_dict[genre] += 1\n",
    "        else:\n",
    "            freq_dict[genre] = 1\n",
    "            \n",
    "    percentage_dict = {}\n",
    "    for value in freq_dict:\n",
    "        percentage = (freq_dict[value]/total)*100\n",
    "        percentage_dict[value] = percentage\n",
    "        \n",
    "    return percentage_dict"
   ]
  },
  {
   "cell_type": "code",
   "execution_count": 17,
   "metadata": {
    "collapsed": true
   },
   "outputs": [],
   "source": [
    "def display_table(dataset, index):\n",
    "    table = freq_table(dataset, index)\n",
    "    table_display = []\n",
    "    for key in table:\n",
    "        key_val_as_tuple = (table[key], key)\n",
    "        table_display.append(key_val_as_tuple)\n",
    "        \n",
    "    table_sorted = sorted(table_display, reverse = True)\n",
    "    for entry in table_sorted:\n",
    "        print(entry[1], ':', entry[0])"
   ]
  },
  {
   "cell_type": "markdown",
   "metadata": {},
   "source": [
    "One way to find out what genres are the most popular (have the most users) is to calculate the average number of installs for each app genre. For the Google Play data set, we can find this information in the Installs column, but for the App Store data set this information is missing. As a workaround, we'll take the total number of user ratings as a proxy, which we can find in the rating_count_tot app.\n",
    "\n",
    "Below, we calculate the average number of user ratings per app genre on the App Store:"
   ]
  },
  {
   "cell_type": "code",
   "execution_count": 18,
   "metadata": {
    "collapsed": false,
    "scrolled": true
   },
   "outputs": [],
   "source": [
    "genre_table_apple = freq_table(free_apps_Apple, 11)"
   ]
  },
  {
   "cell_type": "code",
   "execution_count": 19,
   "metadata": {
    "collapsed": false,
    "scrolled": false
   },
   "outputs": [
    {
     "name": "stdout",
     "output_type": "stream",
     "text": [
      "Food & Drink 33333.92307692308\n",
      "Games 22788.6696905016\n",
      "Productivity 21028.410714285714\n",
      "Book 39758.5\n",
      "Catalogs 4004.0\n",
      "Photo & Video 28441.54375\n",
      "Health & Fitness 23298.015384615384\n",
      "Education 7003.983050847458\n",
      "Navigation 86090.33333333333\n",
      "Weather 52279.892857142855\n",
      "Business 7491.117647058823\n",
      "Sports 23008.898550724636\n",
      "Lifestyle 16485.764705882353\n",
      "Utilities 18684.456790123455\n",
      "Music 57326.530303030304\n",
      "Entertainment 14029.830708661417\n",
      "Finance 31467.944444444445\n",
      "Travel 28243.8\n",
      "Shopping 26919.690476190477\n",
      "Social Networking 71548.34905660378\n",
      "Medical 612.0\n",
      "News 21248.023255813954\n",
      "Reference 74942.11111111111\n"
     ]
    }
   ],
   "source": [
    "for genre in genre_table_apple:\n",
    "    total = 0\n",
    "    len_genre = 0\n",
    "    for app in free_apps_Apple:\n",
    "        genre_app = app[11]\n",
    "        if genre_app == genre:\n",
    "            n_ratings = float(app[5])\n",
    "            total += n_ratings\n",
    "            len_genre += 1\n",
    "    avg_ratings = total / len_genre\n",
    "    print(genre, avg_ratings)"
   ]
  },
  {
   "cell_type": "markdown",
   "metadata": {},
   "source": [
    "For the Google Play market, we actually have data about the number of installs, so we should be able to get a clearer picture about genre popularity. However, the install numbers don't seem precise enough — we can see that most values are open-ended (100+, 1,000+, 5,000+, etc.).\n",
    "\n",
    "To perform computations, however, we'll need to convert each install number to float — this means that we need to remove the commas and the plus characters, otherwise the conversion will fail and raise an error. We'll do this directly in the loop below, where we also compute the average number of installs for each genre (category)."
   ]
  },
  {
   "cell_type": "code",
   "execution_count": 24,
   "metadata": {
    "collapsed": false
   },
   "outputs": [
    {
     "data": {
      "text/plain": [
       "{'ART_AND_DESIGN': 0.7534699272967614,\n",
       " 'AUTO_AND_VEHICLES': 0.9517514871116985,\n",
       " 'BEAUTY': 0.5551883674818242,\n",
       " 'BOOKS_AND_REFERENCE': 2.1017845340383343,\n",
       " 'BUSINESS': 3.344348975545274,\n",
       " 'COMICS': 0.7005948446794449,\n",
       " 'COMMUNICATION': 3.0931923331130204,\n",
       " 'DATING': 1.7316589557171185,\n",
       " 'EDUCATION': 1.4937210839391937,\n",
       " 'ENTERTAINMENT': 1.3218770654329148,\n",
       " 'EVENTS': 0.5948446794448117,\n",
       " 'FAMILY': 19.07468605419696,\n",
       " 'FINANCE': 3.8202247191011236,\n",
       " 'FOOD_AND_DRINK': 1.2161269001982815,\n",
       " 'GAME': 11.037673496364839,\n",
       " 'HEALTH_AND_FITNESS': 3.0667547918043625,\n",
       " 'HOUSE_AND_HOME': 0.8195637805684072,\n",
       " 'LIBRARIES_AND_DEMO': 0.8460013218770654,\n",
       " 'LIFESTYLE': 3.688037012557832,\n",
       " 'MAPS_AND_NAVIGATION': 1.4805023132848645,\n",
       " 'MEDICAL': 3.0138797091870457,\n",
       " 'NEWS_AND_MAGAZINES': 2.6173165895571713,\n",
       " 'PARENTING': 0.634500991407799,\n",
       " 'PERSONALIZATION': 3.0799735624586915,\n",
       " 'PHOTOGRAPHY': 3.2782551222736287,\n",
       " 'PRODUCTIVITY': 3.727693324520819,\n",
       " 'SHOPPING': 2.3529411764705883,\n",
       " 'SOCIAL': 2.6569729015201586,\n",
       " 'SPORTS': 3.146067415730337,\n",
       " 'TOOLS': 8.67151354923992,\n",
       " 'TRAVEL_AND_LOCAL': 2.3661599471249173,\n",
       " 'VIDEO_PLAYERS': 1.903502974223397,\n",
       " 'WEATHER': 0.8592200925313946}"
      ]
     },
     "execution_count": 24,
     "metadata": {},
     "output_type": "execute_result"
    }
   ],
   "source": [
    "genre_table_google = freq_table(free_apps_Android, 1)\n",
    "genre_table_google"
   ]
  },
  {
   "cell_type": "code",
   "execution_count": 25,
   "metadata": {
    "collapsed": false
   },
   "outputs": [
    {
     "name": "stdout",
     "output_type": "stream",
     "text": [
      "EDUCATION 3108407.079646018\n",
      "BUSINESS 2753974.1501976284\n",
      "PARENTING 647208.5416666666\n",
      "BOOKS_AND_REFERENCE 10476157.264150944\n",
      "ART_AND_DESIGN 2003791.2280701755\n",
      "WEATHER 5542846.153846154\n",
      "HOUSE_AND_HOME 1565838.7096774194\n",
      "PRODUCTIVITY 20537621.879432622\n",
      "BEAUTY 640861.9047619047\n",
      "COMMUNICATION 47166160.384615384\n",
      "VIDEO_PLAYERS 27268931.944444444\n",
      "PHOTOGRAPHY 18738970.201612905\n",
      "ENTERTAINMENT 21134600.0\n",
      "FOOD_AND_DRINK 2300192.934782609\n",
      "HEALTH_AND_FITNESS 4885919.051724138\n",
      "AUTO_AND_VEHICLES 737219.4444444445\n",
      "SOCIAL 27302664.05472637\n",
      "GAME 16655938.269461079\n",
      "DATING 1075582.5190839695\n",
      "LIFESTYLE 1782802.9032258065\n",
      "SHOPPING 7866974.382022472\n",
      "PERSONALIZATION 6562636.9527897\n",
      "MEDICAL 168882.35087719298\n",
      "FINANCE 1574833.2179930797\n",
      "NEWS_AND_MAGAZINES 11960046.212121213\n",
      "SPORTS 4601628.844537815\n",
      "TRAVEL_AND_LOCAL 16171381.56424581\n",
      "TOOLS 12344508.658536585\n",
      "LIBRARIES_AND_DEMO 813796.875\n",
      "FAMILY 3045982.508662509\n",
      "COMICS 847567.9245283019\n",
      "EVENTS 354431.3333333333\n",
      "MAPS_AND_NAVIGATION 4491486.25\n"
     ]
    }
   ],
   "source": [
    "for category in genre_table_google:\n",
    "    total = 0\n",
    "    len_category = 0\n",
    "    for app in free_apps_Android:\n",
    "        category_app = app[1]\n",
    "        if category_app == category:\n",
    "            installs = app[5]\n",
    "            installs = installs.replace('+', '')\n",
    "            installs = installs.replace(',', '')\n",
    "            total += float(installs)\n",
    "            len_category += 1\n",
    "    avg_installs = total / len_category\n",
    "    print(category, avg_installs)"
   ]
  }
 ],
 "metadata": {
  "kernelspec": {
   "display_name": "Python 3",
   "language": "python",
   "name": "python3"
  },
  "language_info": {
   "codemirror_mode": {
    "name": "ipython",
    "version": 3
   },
   "file_extension": ".py",
   "mimetype": "text/x-python",
   "name": "python",
   "nbconvert_exporter": "python",
   "pygments_lexer": "ipython3",
   "version": "3.4.3"
  }
 },
 "nbformat": 4,
 "nbformat_minor": 2
}
