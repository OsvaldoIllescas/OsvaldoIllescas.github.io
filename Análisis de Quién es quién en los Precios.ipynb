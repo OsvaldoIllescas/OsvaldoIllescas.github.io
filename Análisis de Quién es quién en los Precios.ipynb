{
 "cells": [
  {
   "cell_type": "markdown",
   "metadata": {},
   "source": [
    "# Analizando la base de datos \"Quién es quién en los precios\"."
   ]
  },
  {
   "cell_type": "markdown",
   "metadata": {},
   "source": [
    "Partimos de la base de datos \"Quién es quién en los Precios\" de la Profeco. Trataremos de responder algunas preguntas sencillas. El código utilizado se encuentra al final del notebook."
   ]
  },
  {
   "cell_type": "markdown",
   "metadata": {},
   "source": [
    "## Procesamiento de datos"
   ]
  },
  {
   "cell_type": "markdown",
   "metadata": {},
   "source": [
    "¿Cuántos registros hay?\n",
    "\n",
    "**Respuesta:**\n",
    "62530715"
   ]
  },
  {
   "cell_type": "markdown",
   "metadata": {},
   "source": [
    "¿Cuántas categorías?\n",
    "\n",
    "**Respestas:** 42"
   ]
  },
  {
   "cell_type": "markdown",
   "metadata": {},
   "source": [
    "¿Cuántas cadenas comerciales están siendo monitoreadas?\n",
    "\n",
    "**Respuesta:** 706"
   ]
  },
  {
   "cell_type": "markdown",
   "metadata": {},
   "source": [
    "¿Cómo podrías determinar la calidad de los datos? ¿Detectaste algún tipo de\n",
    "inconsistencia o error en la fuente?\n",
    "\n",
    "**Respuesta:** \n",
    "- Existen valores nulos en diferentes columnas. \n",
    "- Algunos valores en la columna \"estado\" no pertenecen a estados. \n",
    "- Existe las categoría \"none\" y \"categoría\" en la columan \"categoría\"."
   ]
  },
  {
   "cell_type": "markdown",
   "metadata": {},
   "source": [
    "¿Cuáles son los productos más monitoreados en cada entidad?\n",
    "\n",
    "**Respuesta:**"
   ]
  },
  {
   "cell_type": "markdown",
   "metadata": {},
   "source": [
    "<img src=\"files/1.jpeg\">"
   ]
  },
  {
   "cell_type": "markdown",
   "metadata": {},
   "source": [
    "¿Cuál es la cadena comercial con mayor variedad de productos monitoreados?\n",
    "\n",
    "**Respuesta:**"
   ]
  },
  {
   "cell_type": "markdown",
   "metadata": {},
   "source": [
    "<img src=\"files/2.jpeg\">"
   ]
  },
  {
   "cell_type": "markdown",
   "metadata": {},
   "source": [
    "### Análisis exploratorio"
   ]
  },
  {
   "cell_type": "markdown",
   "metadata": {},
   "source": [
    "¿Cuál es la ciudad más cara del país?¿Cuál es la más barata?\n",
    "\n",
    "**Respuesta:**\n",
    "\n",
    "*Más cara:* Mineral de la reforma\n",
    "\n",
    "*Más barata:* Disrito Federal"
   ]
  },
  {
   "cell_type": "markdown",
   "metadata": {},
   "source": [
    "¿Cuál es el estado más caro y en qué mes?\n",
    "\n",
    "**Respuesta:**\n",
    "\n",
    "Querétaro en el mes de Octubre."
   ]
  },
  {
   "cell_type": "markdown",
   "metadata": {},
   "source": [
    "¿Cuáles son los principales riesgos de hacer análisis de series de tiempo con estos datos?\n",
    "\n",
    "**Respuesta:**\n",
    "Los periodos de tiempo pueden no ser útiles para hacer predicciones. Los datos podrían presentar patrones pero puede no existir correlación entre ellos."
   ]
  },
  {
   "cell_type": "code",
   "execution_count": 44,
   "metadata": {},
   "outputs": [],
   "source": [
    "from pyspark.sql import SparkSession\n",
    "from pyspark.context import SparkContext\n",
    "import pyspark.sql.functions as F"
   ]
  },
  {
   "cell_type": "code",
   "execution_count": 2,
   "metadata": {},
   "outputs": [],
   "source": [
    "import os \n",
    "import sys\n",
    "\n",
    "def configure_spark(spark_home=None, pyspark_python=None):\n",
    "    spark_home = spark_home or \"/path/to/default/spark/home\"\n",
    "    os.environ['SPARK_HOME'] = spark_home\n",
    "    os.environ['JAVA_HOME'] = 'C:\\Program Files\\Java\\jre1.8.0_261'\n",
    "\n",
    "    # Add the PySpark directories to the Python path:\n",
    "    sys.path.insert(1, os.path.join(spark_home, 'python'))\n",
    "    sys.path.insert(1, os.path.join(spark_home, 'python', 'pyspark'))\n",
    "    sys.path.insert(1, os.path.join(spark_home, 'python', 'build'))\n",
    "\n",
    "    # If PySpark isn't specified, use currently running Python binary:\n",
    "    pyspark_python = pyspark_python or sys.executable\n",
    "    os.environ['PYSPARK_PYTHON'] = pyspark_python\n",
    "\n",
    "configure_spark('C:\\spark\\spark-3.0.1-bin-hadoop2.7')"
   ]
  },
  {
   "cell_type": "code",
   "execution_count": 3,
   "metadata": {},
   "outputs": [],
   "source": [
    "spark = SparkSession \\\n",
    "     .builder \\\n",
    "     .appName(\"OPItest\") \\\n",
    "     .getOrCreate() "
   ]
  },
  {
   "cell_type": "code",
   "execution_count": 4,
   "metadata": {},
   "outputs": [],
   "source": [
    "profeco = spark.read.csv('all_data.csv', header=True)"
   ]
  },
  {
   "cell_type": "code",
   "execution_count": 22,
   "metadata": {},
   "outputs": [
    {
     "name": "stdout",
     "output_type": "stream",
     "text": [
      "root\n",
      " |-- producto: string (nullable = true)\n",
      " |-- presentacion: string (nullable = true)\n",
      " |-- marca: string (nullable = true)\n",
      " |-- categoria: string (nullable = true)\n",
      " |-- catalogo: string (nullable = true)\n",
      " |-- precio: string (nullable = true)\n",
      " |-- fechaRegistro: string (nullable = true)\n",
      " |-- cadenaComercial: string (nullable = true)\n",
      " |-- giro: string (nullable = true)\n",
      " |-- nombreComercial: string (nullable = true)\n",
      " |-- direccion: string (nullable = true)\n",
      " |-- estado: string (nullable = true)\n",
      " |-- municipio: string (nullable = true)\n",
      " |-- latitud: string (nullable = true)\n",
      " |-- longitud: string (nullable = true)\n",
      "\n"
     ]
    }
   ],
   "source": [
    "profeco.printSchema()"
   ]
  },
  {
   "cell_type": "code",
   "execution_count": 41,
   "metadata": {},
   "outputs": [
    {
     "data": {
      "text/plain": [
       "62530715"
      ]
     },
     "execution_count": 41,
     "metadata": {},
     "output_type": "execute_result"
    }
   ],
   "source": [
    "profeco.count()"
   ]
  },
  {
   "cell_type": "code",
   "execution_count": 42,
   "metadata": {},
   "outputs": [
    {
     "data": {
      "text/plain": [
       "42"
      ]
     },
     "execution_count": 42,
     "metadata": {},
     "output_type": "execute_result"
    }
   ],
   "source": [
    "profeco.select(\"categoria\").distinct().count()"
   ]
  },
  {
   "cell_type": "code",
   "execution_count": 43,
   "metadata": {},
   "outputs": [
    {
     "data": {
      "text/plain": [
       "706"
      ]
     },
     "execution_count": 43,
     "metadata": {},
     "output_type": "execute_result"
    }
   ],
   "source": [
    "profeco.select(\"cadenaComercial\").distinct().count()"
   ]
  },
  {
   "cell_type": "code",
   "execution_count": 46,
   "metadata": {},
   "outputs": [
    {
     "name": "stdout",
     "output_type": "stream",
     "text": [
      "+--------+------------+-----+---------+--------+------+-------------+---------------+----+---------------+---------+------+---------+-------+--------+\n",
      "|producto|presentacion|marca|categoria|catalogo|precio|fechaRegistro|cadenaComercial|giro|nombreComercial|direccion|estado|municipio|latitud|longitud|\n",
      "+--------+------------+-----+---------+--------+------+-------------+---------------+----+---------------+---------+------+---------+-------+--------+\n",
      "|       0|           0|    0|   887338|     228|     0|            0|           1184| 287|              0|        0| 15054|    15054|  36814|   36814|\n",
      "+--------+------------+-----+---------+--------+------+-------------+---------------+----+---------------+---------+------+---------+-------+--------+\n",
      "\n"
     ]
    }
   ],
   "source": [
    "profeco.select([F.count(F.when(F.col(c).isNull(), c)).alias(c) for c in profeco.columns]).show()"
   ]
  },
  {
   "cell_type": "code",
   "execution_count": null,
   "metadata": {},
   "outputs": [],
   "source": [
    "profeco.groupBy(\"estado\" \"fechaRegistro\").agg(F.avg(\"precios\").show()"
   ]
  },
  {
   "cell_type": "code",
   "execution_count": 5,
   "metadata": {},
   "outputs": [],
   "source": [
    "from pyspark.sql.window import Window"
   ]
  },
  {
   "cell_type": "code",
   "execution_count": 18,
   "metadata": {},
   "outputs": [],
   "source": [
    "from pyspark.sql import SQLContext\n",
    "sqlCtx = SQLContext(spark)"
   ]
  },
  {
   "cell_type": "code",
   "execution_count": 6,
   "metadata": {},
   "outputs": [],
   "source": [
    "w1 = Window.partitionBy(\"producto\").orderBy(\"estado\")"
   ]
  },
  {
   "cell_type": "code",
   "execution_count": 40,
   "metadata": {},
   "outputs": [
    {
     "name": "stdout",
     "output_type": "stream",
     "text": [
      "+--------------------+--------------------+------+-----+\n",
      "|              estado|            producto| count|order|\n",
      "+--------------------+--------------------+------+-----+\n",
      "|        QUINTANA ROO|                 FUD| 34846|    1|\n",
      "|          NUEVO LEÓN|   DETERGENTE P/ROPA| 50307|    1|\n",
      "|             SINALOA|            REFRESCO| 33115|    1|\n",
      "|             TABASCO|            REFRESCO| 28754|    1|\n",
      "|     BAJA CALIFORNIA|            REFRESCO| 37243|    1|\n",
      "|            TLAXCALA|            REFRESCO| 43904|    1|\n",
      "|COAHUILA DE ZARAGOZA|                 FUD| 28613|    1|\n",
      "|                null|LECHE ULTRAPASTEU...|   804|    1|\n",
      "|       ESQ. SUR 125\"|  PAN BLANCO BOLILLO|   130|    1|\n",
      "| COL. EDUARDO GUERRA|            REFRESCO|   275|    1|\n",
      "|             CHIAPAS|            REFRESCO| 14452|    1|\n",
      "|VERACRUZ DE IGNAC...|            REFRESCO| 14576|    1|\n",
      "|              SONORA|            REFRESCO| 34731|    1|\n",
      "|             YUCATÁN|LECHE ULTRAPASTEU...| 35991|    1|\n",
      "| MICHOACÁN DE OCAMPO|   DETERGENTE P/ROPA| 40144|    1|\n",
      "|             DURANGO|   DETERGENTE P/ROPA|  9696|    1|\n",
      "|            GUERRERO|            REFRESCO|  8932|    1|\n",
      "|             NAYARIT|            REFRESCO|  8003|    1|\n",
      "|           CHIHUAHUA|   DETERGENTE P/ROPA| 15982|    1|\n",
      "|    DISTRITO FEDERAL|            REFRESCO|287463|    1|\n",
      "+--------------------+--------------------+------+-----+\n",
      "only showing top 20 rows\n",
      "\n"
     ]
    }
   ],
   "source": [
    "grouped = profeco.groupBy(\"estado\", \"producto\").count()\n",
    "w2 = Window.partitionBy(\"estado\").orderBy(F.desc(\"count\"))\n",
    "grouped.withColumn(\"order\", F.row_number().over(w2)).where(col(\"order\") == 1).show()"
   ]
  },
  {
   "cell_type": "code",
   "execution_count": 50,
   "metadata": {},
   "outputs": [
    {
     "name": "stdout",
     "output_type": "stream",
     "text": [
      "+--------------------+--------------------+-----+-----+\n",
      "|     cadenaComercial|            producto|count|order|\n",
      "+--------------------+--------------------+-----+-----+\n",
      "|JULIO CEPEDA JUGU...|              VARIOS| 8945|    1|\n",
      "|LIBRERIA DE SANCH...|LIBRO DE TEXTO DE...|  111|    1|\n",
      "| MARISCOS LA SEPTIMA|                ATUN|    8|    1|\n",
      "|PAPELERIA EL TINTERO|         COLOR LARGO| 1706|    1|\n",
      "|PAPELERIA Y LIBRE...|LIBRO DE TEXTO DE...|  135|    1|\n",
      "|     PLAZA DEL LIBRO|LIBRO DE TEXTO DE...|   24|    1|\n",
      "|           WOOLWORTH|             MUÑECAS| 3227|    1|\n",
      "|MERCADO ALONSO FE...|           CARNE RES|   81|    1|\n",
      "|           MEGA TOYS|              VARIOS|  553|    1|\n",
      "|     MERCADO LA CRUZ|   DETERGENTE P/ROPA| 1128|    1|\n",
      "|              SIGUBA|             MUÑECAS|  382|    1|\n",
      "|     ZAPATERIA PAKAR|               TENIS|  594|    1|\n",
      "|    BODEGAS VICTORIA|           CARNE RES|   21|    1|\n",
      "| MARISCOS VILLA AZUL|             CAMARON|   68|    1|\n",
      "|     MINISUPER INALA|      CHILES EN LATA|   16|    1|\n",
      "|        FARMACIAS M+|              LYRICA|   92|    1|\n",
      "|    LIBRERIA ATHENAS|LIBRO DE TEXTO DE...|   69|    1|\n",
      "|              S MART|   DETERGENTE P/ROPA| 8971|    1|\n",
      "|FARMACIAS SAN FRA...|            CELEBREX|  252|    1|\n",
      "|   LOYEP (UNIFORMES)|PANTALON ESCUELA ...|  251|    1|\n",
      "+--------------------+--------------------+-----+-----+\n",
      "only showing top 20 rows\n",
      "\n"
     ]
    }
   ],
   "source": [
    "grouped1 = profeco.groupBy(\"cadenaComercial\", \"producto\").count()\n",
    "w3 = Window.partitionBy(\"cadenaComercial\").orderBy(F.desc(\"count\"))\n",
    "grouped1.withColumn(\"order\", F.row_number().over(w3)).where(F.col(\"order\") == 1).show()"
   ]
  },
  {
   "cell_type": "code",
   "execution_count": 61,
   "metadata": {},
   "outputs": [
    {
     "name": "stdout",
     "output_type": "stream",
     "text": [
      "+--------------------+------+------------------+\n",
      "|              estado|precio|               avg|\n",
      "+--------------------+------+------------------+\n",
      "|                null|  10.7|10.699999999999994|\n",
      "|             YUCATÁN|  10.7|10.699999999999994|\n",
      "|           CHIHUAHUA|  10.7|10.699999999999994|\n",
      "|              OAXACA|  10.7|10.699999999999994|\n",
      "|             TABASCO|  10.7|10.699999999999994|\n",
      "|            CAMPECHE|  10.7|10.699999999999994|\n",
      "|     SAN LUIS POTOSÍ|  10.7|10.699999999999994|\n",
      "|     BAJA CALIFORNIA|  10.7|10.699999999999994|\n",
      "|          NUEVO LEÓN|  10.7|10.699999999999994|\n",
      "|           ZACATECAS|  10.7|10.699999999999994|\n",
      "| BAJA CALIFORNIA SUR|  10.7|10.699999999999994|\n",
      "|             MORELOS|  10.7|10.699999999999994|\n",
      "|              SONORA|  10.7|10.699999999999994|\n",
      "|COAHUILA DE ZARAGOZA|  10.7|10.699999999999994|\n",
      "|              MÉXICO|  10.7|10.699999999999994|\n",
      "| MICHOACÁN DE OCAMPO|  10.7|10.699999999999994|\n",
      "|             NAYARIT|  10.7|10.699999999999994|\n",
      "|            TLAXCALA|  10.7|10.699999999999994|\n",
      "|              PUEBLA|  10.7|10.699999999999994|\n",
      "|          TAMAULIPAS|  10.7|10.699999999999994|\n",
      "+--------------------+------+------------------+\n",
      "only showing top 20 rows\n",
      "\n"
     ]
    }
   ],
   "source": [
    "profeco.registerTempTable(\"profeco\")\n",
    "sqlCtx.sql(\"select estado, precio, avg(precio) over (partition by precio) as avg from profeco group by estado, precio\").show()"
   ]
  },
  {
   "cell_type": "code",
   "execution_count": 63,
   "metadata": {},
   "outputs": [
    {
     "name": "stdout",
     "output_type": "stream",
     "text": [
      "+--------------------+------------------+\n",
      "|           municipio|       avg(precio)|\n",
      "+--------------------+------------------+\n",
      "|OJINAGA          ...| 198.1150955742386|\n",
      "|SANTA LUCIA DEL C...|11.621656050955414|\n",
      "|TLAHUAC          ...| 13.38072744449693|\n",
      "|          XOCHIMILCO| 230.7388879712314|\n",
      "|GUADALUPE        ...| 268.9884006379839|\n",
      "|GUADALAJARA      ...| 340.6231118330885|\n",
      "|CUAUTITLAN IZCALL...| 692.2871769366495|\n",
      "|  CUAUTITLÁN IZCALLI| 867.1438786942692|\n",
      "|              MÉRIDA| 610.5113959312602|\n",
      "|MIGUEL HIDALGO   ...| 293.2165905802715|\n",
      "|MERIDA           ...| 593.8746627387962|\n",
      "|CAMPECHE         ...|387.62871000175943|\n",
      "|           TULTITLÁN|212.48612204769518|\n",
      "|TLALPAN          ...|386.17056708765085|\n",
      "|                LEÓN| 655.3993888795545|\n",
      "|               TEPIC|  817.983152734674|\n",
      "|SAN PEDRO GARZA G...| 1567.897594574927|\n",
      "|        AZCAPOTZALCO| 454.1550908268682|\n",
      "|          CP. 27280\"|204.69219159008608|\n",
      "|            CÁRDENAS| 727.2738708006151|\n",
      "+--------------------+------------------+\n",
      "only showing top 20 rows\n",
      "\n"
     ]
    }
   ],
   "source": [
    "profeco.groupBy(\"municipio\").agg({\"precio\": \"avg\"}).orderBy().show()"
   ]
  },
  {
   "cell_type": "code",
   "execution_count": 68,
   "metadata": {},
   "outputs": [
    {
     "name": "stdout",
     "output_type": "stream",
     "text": [
      "+--------------------+------------------+\n",
      "|           municipio|       avg(precio)|\n",
      "+--------------------+------------------+\n",
      "|MINERAL DE LA REF...| 2351.352747252748|\n",
      "|MINERAL DE LA REF...|       1794.859375|\n",
      "|SAN PEDRO GARZA G...| 1567.897594574927|\n",
      "|METEPEC          ...| 1434.393055830713|\n",
      "|         TLAQUEPAQUE|1081.5867608036938|\n",
      "|SAN PEDRO GARZA G...| 946.3962263344739|\n",
      "|              CARMEN| 923.2896217907679|\n",
      "|DURANGO          ...| 917.7662001202675|\n",
      "|             DURANGO| 915.5655683192243|\n",
      "|            VERACRUZ| 904.9979154132332|\n",
      "|              COLIMA| 897.0281669134549|\n",
      "|             METEPEC| 890.9500353179583|\n",
      "|             TORREÓN|  889.800787581794|\n",
      "|     OTHÓN P. BLANCO| 889.7990291493196|\n",
      "|COLIMA           ...| 867.7465286727949|\n",
      "|  CUAUTITLÁN IZCALLI| 867.1438786942692|\n",
      "|     PACHUCA DE SOTO| 857.5933525629733|\n",
      "|     SAN LUIS POTOSÍ| 831.4011677720871|\n",
      "|PACHUCA DE SOTO  ...|  824.302926808676|\n",
      "|            CAMPECHE| 818.7400068117165|\n",
      "+--------------------+------------------+\n",
      "only showing top 20 rows\n",
      "\n"
     ]
    }
   ],
   "source": [
    "profeco.groupBy(\"municipio\").agg({\"precio\": \"avg\"}).sort(F.desc(\"avg(precio)\")).show()"
   ]
  },
  {
   "cell_type": "code",
   "execution_count": 69,
   "metadata": {
    "scrolled": true
   },
   "outputs": [
    {
     "name": "stdout",
     "output_type": "stream",
     "text": [
      "+--------------------+------------------+\n",
      "|           municipio|       avg(precio)|\n",
      "+--------------------+------------------+\n",
      "|           municipio|              null|\n",
      "|    DISTRITO FEDERAL|1.6386363636363637|\n",
      "|SANTA CATARINA   ...|  9.60223404255319|\n",
      "|      SANTA CATARINA|10.033333333333335|\n",
      "|SAN MATEO ATENCO ...|              10.7|\n",
      "|TLAJOMULCO DE ZUÑ...|10.742156862745098|\n",
      "|GENERAL ESCOBEDO ...|10.976972072513467|\n",
      "|ATIZAPAN DE ZARAG...|10.983198653198652|\n",
      "|SANTA LUCIA DEL C...|11.621656050955414|\n",
      "|SANTA LUCIA DEL C...|12.021818181818182|\n",
      "|    GENERAL ESCOBEDO|12.050467289719625|\n",
      "|CUAJIMALPA DE MOR...| 13.34045584045584|\n",
      "|TLAHUAC          ...| 13.38072744449693|\n",
      "|MILPA ALTA       ...|13.448717948717949|\n",
      "|          MILPA ALTA|              15.0|\n",
      "|CUAJIMALPA DE MOR...|              15.0|\n",
      "|             TLÁHUAC|              15.0|\n",
      "|ATIZAPÁN DE ZARAGOZA|16.266819172113287|\n",
      "|           HUAMANTLA| 29.61502898916056|\n",
      "|             URUAPAN| 40.13605195224261|\n",
      "+--------------------+------------------+\n",
      "only showing top 20 rows\n",
      "\n"
     ]
    }
   ],
   "source": [
    "profeco.groupBy(\"municipio\").agg({\"precio\": \"avg\"}).sort(F.asc(\"avg(precio)\")).show()"
   ]
  },
  {
   "cell_type": "code",
   "execution_count": 71,
   "metadata": {
    "scrolled": true
   },
   "outputs": [
    {
     "name": "stdout",
     "output_type": "stream",
     "text": [
      "+----------------+--------------------+-----------+\n",
      "|          estado|       fechaRegistro|avg(precio)|\n",
      "+----------------+--------------------+-----------+\n",
      "|       QUERÉTARO|2015-10-06 17:01:...|   151199.0|\n",
      "|       QUERÉTARO|2015-10-13 15:10:...|   151199.0|\n",
      "|      NUEVO LEÓN|2015-10-05 15:31:...|   131999.2|\n",
      "|DISTRITO FEDERAL|2015-10-02 14:13:...|   131999.2|\n",
      "|      NUEVO LEÓN|2015-09-28 16:21:...|   131999.2|\n",
      "|      NUEVO LEÓN|2015-10-19 14:04:...|   129999.0|\n",
      "|      NUEVO LEÓN|2015-10-12 13:59:...|   129999.0|\n",
      "|      NUEVO LEÓN|2015-10-26 13:52:...|   129999.0|\n",
      "|      NUEVO LEÓN|2015-10-05 13:45:...|   129999.0|\n",
      "|      GUANAJUATO|2015-10-12 12:02:...|  123749.25|\n",
      "|          PUEBLA|2015-10-02 14:49:...|  121439.26|\n",
      "|      NUEVO LEÓN|2015-10-12 16:08:...|  121439.26|\n",
      "|      NUEVO LEÓN|2015-10-19 16:19:...|  121439.26|\n",
      "|          PUEBLA|2015-10-09 14:07:...|  121439.26|\n",
      "|      NUEVO LEÓN|2015-10-26 16:26:...|  121439.26|\n",
      "|          PUEBLA|2015-10-16 15:04:...|  121439.26|\n",
      "|          PUEBLA|2015-10-23 15:15:...|  121439.26|\n",
      "|         JALISCO|2015-10-19 14:26:...|   120959.2|\n",
      "|  AGUASCALIENTES|2015-10-02 02:11:...|   120959.0|\n",
      "|        GUERRERO|2015-10-15 17:35:...|   115808.0|\n",
      "+----------------+--------------------+-----------+\n",
      "only showing top 20 rows\n",
      "\n"
     ]
    }
   ],
   "source": [
    "d = profeco.groupBy(\"estado\", \"fechaRegistro\").agg({\"precio\":\"avg\"}).sort(F.desc(\"avg(precio)\")).show()"
   ]
  }
 ],
 "metadata": {
  "kernelspec": {
   "display_name": "Python 3",
   "language": "python",
   "name": "python3"
  },
  "language_info": {
   "codemirror_mode": {
    "name": "ipython",
    "version": 3
   },
   "file_extension": ".py",
   "mimetype": "text/x-python",
   "name": "python",
   "nbconvert_exporter": "python",
   "pygments_lexer": "ipython3",
   "version": "3.8.3"
  }
 },
 "nbformat": 4,
 "nbformat_minor": 4
}
