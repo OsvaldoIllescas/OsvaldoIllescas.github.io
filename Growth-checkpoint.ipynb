{
 "cells": [
  {
   "cell_type": "markdown",
   "metadata": {},
   "source": [
    "# Cálculo de parámetros para un modelo fermentativo"
   ]
  },
  {
   "cell_type": "markdown",
   "metadata": {},
   "source": [
    "El modelamiento partió de considerar los resultados experimentales obtenidos por Partida (2017), considerando dos procesos fermentativos por lotes empleando jugo de sorgo dulce. A partir de estos resultados, se realizó la estimación de parámetros y se emplearon para validar los resultados obtenidos. "
   ]
  },
  {
   "cell_type": "code",
   "execution_count": 1,
   "metadata": {},
   "outputs": [],
   "source": [
    "import pandas as pd\n",
    "import matplotlib.pyplot as plt\n",
    "from pyomo.environ import *\n",
    "import numpy as np"
   ]
  },
  {
   "cell_type": "code",
   "execution_count": 2,
   "metadata": {},
   "outputs": [],
   "source": [
    "data = pd.read_csv('data.csv')"
   ]
  },
  {
   "cell_type": "code",
   "execution_count": 3,
   "metadata": {},
   "outputs": [
    {
     "data": {
      "text/html": [
       "<div>\n",
       "<style scoped>\n",
       "    .dataframe tbody tr th:only-of-type {\n",
       "        vertical-align: middle;\n",
       "    }\n",
       "\n",
       "    .dataframe tbody tr th {\n",
       "        vertical-align: top;\n",
       "    }\n",
       "\n",
       "    .dataframe thead th {\n",
       "        text-align: right;\n",
       "    }\n",
       "</style>\n",
       "<table border=\"1\" class=\"dataframe\">\n",
       "  <thead>\n",
       "    <tr style=\"text-align: right;\">\n",
       "      <th></th>\n",
       "      <th>t</th>\n",
       "      <th>S</th>\n",
       "      <th>X</th>\n",
       "      <th>P</th>\n",
       "    </tr>\n",
       "  </thead>\n",
       "  <tbody>\n",
       "    <tr>\n",
       "      <th>0</th>\n",
       "      <td>0</td>\n",
       "      <td>187.8800</td>\n",
       "      <td>0.447337</td>\n",
       "      <td>1.4375</td>\n",
       "    </tr>\n",
       "    <tr>\n",
       "      <th>1</th>\n",
       "      <td>2</td>\n",
       "      <td>188.1025</td>\n",
       "      <td>0.821843</td>\n",
       "      <td>1.2825</td>\n",
       "    </tr>\n",
       "    <tr>\n",
       "      <th>2</th>\n",
       "      <td>4</td>\n",
       "      <td>185.5150</td>\n",
       "      <td>0.999299</td>\n",
       "      <td>1.9150</td>\n",
       "    </tr>\n",
       "    <tr>\n",
       "      <th>3</th>\n",
       "      <td>6</td>\n",
       "      <td>187.5525</td>\n",
       "      <td>1.271768</td>\n",
       "      <td>4.0775</td>\n",
       "    </tr>\n",
       "    <tr>\n",
       "      <th>4</th>\n",
       "      <td>8</td>\n",
       "      <td>175.6700</td>\n",
       "      <td>1.700620</td>\n",
       "      <td>8.8525</td>\n",
       "    </tr>\n",
       "    <tr>\n",
       "      <th>5</th>\n",
       "      <td>10</td>\n",
       "      <td>160.9575</td>\n",
       "      <td>2.513960</td>\n",
       "      <td>16.0000</td>\n",
       "    </tr>\n",
       "    <tr>\n",
       "      <th>6</th>\n",
       "      <td>12</td>\n",
       "      <td>149.8950</td>\n",
       "      <td>2.935418</td>\n",
       "      <td>24.4775</td>\n",
       "    </tr>\n",
       "    <tr>\n",
       "      <th>7</th>\n",
       "      <td>15</td>\n",
       "      <td>116.9600</td>\n",
       "      <td>3.127662</td>\n",
       "      <td>40.1375</td>\n",
       "    </tr>\n",
       "    <tr>\n",
       "      <th>8</th>\n",
       "      <td>18</td>\n",
       "      <td>86.3550</td>\n",
       "      <td>3.135056</td>\n",
       "      <td>47.6800</td>\n",
       "    </tr>\n",
       "    <tr>\n",
       "      <th>9</th>\n",
       "      <td>21</td>\n",
       "      <td>63.4575</td>\n",
       "      <td>4.547310</td>\n",
       "      <td>60.0050</td>\n",
       "    </tr>\n",
       "    <tr>\n",
       "      <th>10</th>\n",
       "      <td>24</td>\n",
       "      <td>43.3550</td>\n",
       "      <td>4.628644</td>\n",
       "      <td>68.0050</td>\n",
       "    </tr>\n",
       "    <tr>\n",
       "      <th>11</th>\n",
       "      <td>28</td>\n",
       "      <td>22.9300</td>\n",
       "      <td>4.613856</td>\n",
       "      <td>78.5400</td>\n",
       "    </tr>\n",
       "    <tr>\n",
       "      <th>12</th>\n",
       "      <td>32</td>\n",
       "      <td>10.6425</td>\n",
       "      <td>5.050102</td>\n",
       "      <td>84.8025</td>\n",
       "    </tr>\n",
       "    <tr>\n",
       "      <th>13</th>\n",
       "      <td>36</td>\n",
       "      <td>9.4950</td>\n",
       "      <td>4.931798</td>\n",
       "      <td>87.4075</td>\n",
       "    </tr>\n",
       "  </tbody>\n",
       "</table>\n",
       "</div>"
      ],
      "text/plain": [
       "     t         S         X        P\n",
       "0    0  187.8800  0.447337   1.4375\n",
       "1    2  188.1025  0.821843   1.2825\n",
       "2    4  185.5150  0.999299   1.9150\n",
       "3    6  187.5525  1.271768   4.0775\n",
       "4    8  175.6700  1.700620   8.8525\n",
       "5   10  160.9575  2.513960  16.0000\n",
       "6   12  149.8950  2.935418  24.4775\n",
       "7   15  116.9600  3.127662  40.1375\n",
       "8   18   86.3550  3.135056  47.6800\n",
       "9   21   63.4575  4.547310  60.0050\n",
       "10  24   43.3550  4.628644  68.0050\n",
       "11  28   22.9300  4.613856  78.5400\n",
       "12  32   10.6425  5.050102  84.8025\n",
       "13  36    9.4950  4.931798  87.4075"
      ]
     },
     "execution_count": 3,
     "metadata": {},
     "output_type": "execute_result"
    }
   ],
   "source": [
    "data.drop('Unnamed: 0', axis=1)"
   ]
  },
  {
   "cell_type": "markdown",
   "metadata": {},
   "source": [
    "## Estimación de parámetros\n",
    "\n",
    "Los parámetros necesarios por estimar para iniciar la simulación de un proceso fermentativo son:  "
   ]
  },
  {
   "cell_type": "markdown",
   "metadata": {},
   "source": [
    "Tiempo de duplicación, a partir de la siguiente ecuación (El-Mansi et al., 2012): \n",
    "\n",
    "$ Td=\\frac{t}{3.32\\log\\left(\\frac{X_t}{X_0}\\right)} $"
   ]
  },
  {
   "cell_type": "code",
   "execution_count": 4,
   "metadata": {},
   "outputs": [],
   "source": [
    "data['Td'] = (data['t'])/(3.32*np.log10(data['X']/data.loc[0, 'X']))"
   ]
  },
  {
   "cell_type": "markdown",
   "metadata": {},
   "source": [
    "Crecimiento celular, empleando la siguiente ecuación (Shuler y Kargi, 2002): \n",
    "\n",
    "$\\mu=\\frac{\\ln{2}}{Td}$"
   ]
  },
  {
   "cell_type": "code",
   "execution_count": 5,
   "metadata": {},
   "outputs": [],
   "source": [
    "data['growth'] = np.log(2)/data['Td']"
   ]
  },
  {
   "cell_type": "markdown",
   "metadata": {},
   "source": [
    "El modelo de crecimiento para este proceso tiene la forma del modelo de Monod, siendo necesario calcular los parámetros de crecimiento máximo específico µmax (h-1) y la constante de saturación Ks (g/L), para lo cual se utilizó el método de mínimos cuadrados. La función a minimizar se presenta en la siguiente ecuación: \n",
    "\n",
    "$ min\\ \\mu=\\sum_{i=1}^{m}\\left[\\mu_i-\\mu_{max}\\frac{S_i}{S_i+K_s}\\right]^2 $\n",
    "\n",
    "Para esta etapa se importó la librería Pyomo que permite definir tanto la función objetivo con la sintaxis model.Objective, como el sentido de la optimización utilizando sense estableciendo la maximización o minimización de la función objetivo (minimize o maximize respectivamente). El modelo de optimización se resuelve mediante la selección de alguno de  los solvers integrados a Pyomo con la sintaxis SolverFactory(‘solver’). Para el presente caso se eligió el solver IPOPT, que permite optimizar problemas no lineales"
   ]
  },
  {
   "cell_type": "code",
   "execution_count": 6,
   "metadata": {},
   "outputs": [
    {
     "name": "stdout",
     "output_type": "stream",
     "text": [
      "# ==========================================================\n",
      "# = Solver Results                                         =\n",
      "# ==========================================================\n",
      "# ----------------------------------------------------------\n",
      "#   Problem Information\n",
      "# ----------------------------------------------------------\n",
      "Problem: \n",
      "- Lower bound: -inf\n",
      "  Upper bound: inf\n",
      "  Number of objectives: 1\n",
      "  Number of constraints: 0\n",
      "  Number of variables: 2\n",
      "  Sense: unknown\n",
      "# ----------------------------------------------------------\n",
      "#   Solver Information\n",
      "# ----------------------------------------------------------\n",
      "Solver: \n",
      "- Status: ok\n",
      "  Message: Ipopt 3.11.1\\x3a Optimal Solution Found\n",
      "  Termination condition: optimal\n",
      "  Id: 0\n",
      "  Error rc: 0\n",
      "  Time: 0.2602710723876953\n",
      "# ----------------------------------------------------------\n",
      "#   Solution Information\n",
      "# ----------------------------------------------------------\n",
      "Solution: \n",
      "- number of solutions: 0\n",
      "  number of solutions displayed: 0\n",
      "Ks = 86.58\n",
      "umax = 0.28\n"
     ]
    }
   ],
   "source": [
    "def ParEst():\n",
    "    \n",
    "    #Assigning variables for data sets\n",
    "    S = data.loc[1:,'S'].tolist()\n",
    "    u = data.loc[1:, 'growth'].tolist()\n",
    "    \n",
    "    #Declaring model\n",
    "    m = ConcreteModel()\n",
    "    \n",
    "    #Declarando variables modificables\n",
    "    m.Ks = Var(domain=Reals, initialize=20)\n",
    "    m.umax = Var(domain=Reals, initialize=0.1)\n",
    "    \n",
    "    #Ecuación residual\n",
    "    residuals = [\n",
    "        m.umax*(S[t]/(m.Ks + S[t]))- u[t]\n",
    "        for t in range(len(S))]\n",
    "    \n",
    "    #Función objetivo\n",
    "    m.obj = Objective(\n",
    "        expr = sum(residuals[t]**2 for t in range(len(S))),\n",
    "        sense = minimize)\n",
    "    \n",
    "    Solver = SolverFactory('ipopt')\n",
    "    \n",
    "    #Resolviendo el modelo\n",
    "    Results = Solver.solve(m).write()\n",
    "    \n",
    "    return [m.Ks(), m.umax()], [residuals[t]() for t in range(len(S))]\n",
    "\n",
    "Parameter_values,Parameters = ParEst()\n",
    "\n",
    "parameters_names = ['Ks', 'umax']\n",
    "\n",
    "#Printing parameters\n",
    "for name, value in zip(parameters_names, Parameter_values):\n",
    "    print (name, \"=\", round(value,2))"
   ]
  }
 ],
 "metadata": {
  "kernelspec": {
   "display_name": "Python 3",
   "language": "python",
   "name": "python3"
  },
  "language_info": {
   "codemirror_mode": {
    "name": "ipython",
    "version": 3
   },
   "file_extension": ".py",
   "mimetype": "text/x-python",
   "name": "python",
   "nbconvert_exporter": "python",
   "pygments_lexer": "ipython3",
   "version": "3.8.3"
  }
 },
 "nbformat": 4,
 "nbformat_minor": 4
}
