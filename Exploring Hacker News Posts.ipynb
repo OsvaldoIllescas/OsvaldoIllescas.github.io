{
 "cells": [
  {
   "cell_type": "markdown",
   "metadata": {
    "collapsed": true
   },
   "source": [
    "# Exploring Hacker News Posts\n",
    "\n",
    "We will work with a data set from Hacker News (if want to check the site, click [here](https://news.ycombinator.com/)) wich contains information about posts in the site. We will focus on specific post where users ask cuestions to the community by writing Ask HN and post where users show projects by writting Show HN. We will start with reading the CSV file:"
   ]
  },
  {
   "cell_type": "code",
   "execution_count": 1,
   "metadata": {
    "collapsed": false
   },
   "outputs": [],
   "source": [
    "from csv import reader\n",
    "\n",
    "opened_file = open('hacker_news.csv')\n",
    "read_file = reader(opened_file)\n",
    "\n",
    "hn = list(read_file)"
   ]
  },
  {
   "cell_type": "markdown",
   "metadata": {},
   "source": [
    "Let's check some rows in the dataset:"
   ]
  },
  {
   "cell_type": "code",
   "execution_count": 2,
   "metadata": {
    "collapsed": false
   },
   "outputs": [
    {
     "data": {
      "text/plain": [
       "[['id', 'title', 'url', 'num_points', 'num_comments', 'author', 'created_at'],\n",
       " ['12224879',\n",
       "  'Interactive Dynamic Video',\n",
       "  'http://www.interactivedynamicvideo.com/',\n",
       "  '386',\n",
       "  '52',\n",
       "  'ne0phyte',\n",
       "  '8/4/2016 11:52'],\n",
       " ['10975351',\n",
       "  'How to Use Open Source and Shut the Fuck Up at the Same Time',\n",
       "  'http://hueniverse.com/2016/01/26/how-to-use-open-source-and-shut-the-fuck-up-at-the-same-time/',\n",
       "  '39',\n",
       "  '10',\n",
       "  'josep2',\n",
       "  '1/26/2016 19:30'],\n",
       " ['11964716',\n",
       "  \"Florida DJs May Face Felony for April Fools' Water Joke\",\n",
       "  'http://www.thewire.com/entertainment/2013/04/florida-djs-april-fools-water-joke/63798/',\n",
       "  '2',\n",
       "  '1',\n",
       "  'vezycash',\n",
       "  '6/23/2016 22:20'],\n",
       " ['11919867',\n",
       "  'Technology ventures: From Idea to Enterprise',\n",
       "  'https://www.amazon.com/Technology-Ventures-Enterprise-Thomas-Byers/dp/0073523429',\n",
       "  '3',\n",
       "  '1',\n",
       "  'hswarna',\n",
       "  '6/17/2016 0:01'],\n",
       " ['10301696',\n",
       "  'Note by Note: The Making of Steinway L1037 (2007)',\n",
       "  'http://www.nytimes.com/2007/11/07/movies/07stein.html?_r=0',\n",
       "  '8',\n",
       "  '2',\n",
       "  'walterbell',\n",
       "  '9/30/2015 4:12']]"
      ]
     },
     "execution_count": 2,
     "metadata": {},
     "output_type": "execute_result"
    }
   ],
   "source": [
    "hn[0:6]"
   ]
  },
  {
   "cell_type": "markdown",
   "metadata": {},
   "source": [
    "First row is the header of the dataset. We need to remove in order to avoid errors while cleaning data, but we're goint to save it to a different variable:\n"
   ]
  },
  {
   "cell_type": "code",
   "execution_count": 3,
   "metadata": {
    "collapsed": false
   },
   "outputs": [
    {
     "data": {
      "text/plain": [
       "['id', 'title', 'url', 'num_points', 'num_comments', 'author', 'created_at']"
      ]
     },
     "execution_count": 3,
     "metadata": {},
     "output_type": "execute_result"
    }
   ],
   "source": [
    "headers = hn[0]\n",
    "del hn[0]\n",
    "\n",
    "headers"
   ]
  },
  {
   "cell_type": "markdown",
   "metadata": {},
   "source": [
    "We will now start analyzing data, by separating posts starting with either Show HN or Ask HN"
   ]
  },
  {
   "cell_type": "code",
   "execution_count": 4,
   "metadata": {
    "collapsed": false
   },
   "outputs": [
    {
     "name": "stdout",
     "output_type": "stream",
     "text": [
      "1744\n",
      "1162\n",
      "17194\n"
     ]
    }
   ],
   "source": [
    "ask_posts = []\n",
    "show_posts = []\n",
    "other_posts = []\n",
    "\n",
    "for post in hn:\n",
    "    title = post[1]\n",
    "    title = title.lower()\n",
    "    \n",
    "    if title.startswith('ask hn'):\n",
    "        ask_posts.append(post)\n",
    "    elif title.startswith('show hn'):\n",
    "        show_posts.append(post)\n",
    "    else:\n",
    "        other_posts.append(post)\n",
    "        \n",
    "print(len(ask_posts))\n",
    "print(len(show_posts))\n",
    "print(len(other_posts))"
   ]
  },
  {
   "cell_type": "markdown",
   "metadata": {},
   "source": [
    "We can now check our post saved in ask_posts list:"
   ]
  },
  {
   "cell_type": "code",
   "execution_count": 5,
   "metadata": {
    "collapsed": false
   },
   "outputs": [
    {
     "data": {
      "text/plain": [
       "[['12296411',\n",
       "  'Ask HN: How to improve my personal website?',\n",
       "  '',\n",
       "  '2',\n",
       "  '6',\n",
       "  'ahmedbaracat',\n",
       "  '8/16/2016 9:55'],\n",
       " ['10610020',\n",
       "  'Ask HN: Am I the only one outraged by Twitter shutting down share counts?',\n",
       "  '',\n",
       "  '28',\n",
       "  '29',\n",
       "  'tkfx',\n",
       "  '11/22/2015 13:43'],\n",
       " ['11610310',\n",
       "  'Ask HN: Aby recent changes to CSS that broke mobile?',\n",
       "  '',\n",
       "  '1',\n",
       "  '1',\n",
       "  'polskibus',\n",
       "  '5/2/2016 10:14'],\n",
       " ['12210105',\n",
       "  'Ask HN: Looking for Employee #3 How do I do it?',\n",
       "  '',\n",
       "  '1',\n",
       "  '3',\n",
       "  'sph130',\n",
       "  '8/2/2016 14:20'],\n",
       " ['10394168',\n",
       "  'Ask HN: Someone offered to buy my browser extension from me. What now?',\n",
       "  '',\n",
       "  '28',\n",
       "  '17',\n",
       "  'roykolak',\n",
       "  '10/15/2015 16:38']]"
      ]
     },
     "execution_count": 5,
     "metadata": {},
     "output_type": "execute_result"
    }
   ],
   "source": [
    "ask_posts[0:5]"
   ]
  },
  {
   "cell_type": "markdown",
   "metadata": {},
   "source": [
    "Let's now separate posts by post-time and number of comments:"
   ]
  },
  {
   "cell_type": "code",
   "execution_count": 6,
   "metadata": {
    "collapsed": false
   },
   "outputs": [],
   "source": [
    "import datetime as dt\n",
    "\n",
    "result_list = []\n",
    "\n",
    "for post in ask_posts:\n",
    "    post_time = post[6]\n",
    "    n_comments = int(post[4])\n",
    "    time_data = [post_time, n_comments]\n",
    "    result_list.append(time_data)\n",
    "    \n",
    "counts_by_hour = {}\n",
    "comments_by_hour = {}\n",
    "\n",
    "for data in result_list:\n",
    "    hour_data = data[0]\n",
    "    comments = data[1]\n",
    "    post_d, post_h = hour_data.split()\n",
    "    post_time = dt.datetime.strptime(post_h, '%H:%M')\n",
    "    hr = post_time.strftime('%H')\n",
    "    \n",
    "    if hr not in counts_by_hour:\n",
    "        counts_by_hour[hr] = 1\n",
    "        comments_by_hour[hr] = comments\n",
    "    else:\n",
    "        counts_by_hour[hr] += 1\n",
    "        comments_by_hour[hr] += comments"
   ]
  },
  {
   "cell_type": "markdown",
   "metadata": {},
   "source": [
    "We can now use this information to calculate the average number of comments by hour:"
   ]
  },
  {
   "cell_type": "code",
   "execution_count": 14,
   "metadata": {
    "collapsed": false
   },
   "outputs": [
    {
     "data": {
      "text/plain": [
       "[['21', 16.009174311926607],\n",
       " ['11', 11.051724137931034],\n",
       " ['05', 10.08695652173913],\n",
       " ['01', 11.383333333333333],\n",
       " ['23', 7.985294117647059],\n",
       " ['17', 11.46],\n",
       " ['06', 9.022727272727273],\n",
       " ['10', 13.440677966101696],\n",
       " ['04', 7.170212765957447],\n",
       " ['07', 7.852941176470588],\n",
       " ['00', 8.127272727272727],\n",
       " ['13', 14.741176470588234],\n",
       " ['18', 13.20183486238532],\n",
       " ['08', 10.25],\n",
       " ['15', 38.5948275862069],\n",
       " ['16', 16.796296296296298],\n",
       " ['20', 21.525],\n",
       " ['14', 13.233644859813085],\n",
       " ['02', 23.810344827586206],\n",
       " ['19', 10.8],\n",
       " ['22', 6.746478873239437],\n",
       " ['12', 9.41095890410959],\n",
       " ['03', 7.796296296296297],\n",
       " ['09', 5.5777777777777775]]"
      ]
     },
     "execution_count": 14,
     "metadata": {},
     "output_type": "execute_result"
    }
   ],
   "source": [
    "avg_comments = []\n",
    "\n",
    "for hr in counts_by_hour:\n",
    "    avg_by_hour = comments_by_hour[hr]/counts_by_hour[hr]\n",
    "    avg_comments.append([hr, avg_by_hour])\n",
    "\n",
    "avg_comments"
   ]
  },
  {
   "cell_type": "markdown",
   "metadata": {},
   "source": [
    "We would now like to know what post-time gets more comments. We need first swap order ine every list in our *avg_comments* list, and then use the __sorted__ function:"
   ]
  },
  {
   "cell_type": "code",
   "execution_count": 16,
   "metadata": {
    "collapsed": false
   },
   "outputs": [
    {
     "name": "stdout",
     "output_type": "stream",
     "text": [
      "[[16.009174311926607, '21'], [11.051724137931034, '11'], [10.08695652173913, '05'], [11.383333333333333, '01'], [7.985294117647059, '23'], [11.46, '17'], [9.022727272727273, '06'], [13.440677966101696, '10'], [7.170212765957447, '04'], [7.852941176470588, '07'], [8.127272727272727, '00'], [14.741176470588234, '13'], [13.20183486238532, '18'], [10.25, '08'], [38.5948275862069, '15'], [16.796296296296298, '16'], [21.525, '20'], [13.233644859813085, '14'], [23.810344827586206, '02'], [10.8, '19'], [6.746478873239437, '22'], [9.41095890410959, '12'], [7.796296296296297, '03'], [5.5777777777777775, '09']]\n"
     ]
    }
   ],
   "source": [
    "swap_avg_by_hour = []\n",
    "\n",
    "for hr in avg_comments:\n",
    "    swap_avg_by_hour.append([hr[1],hr[0]])\n",
    "print(swap_avg_by_hour)\n",
    "sorted_swap = sorted(swap_avg_by_hour, reverse=True)"
   ]
  },
  {
   "cell_type": "markdown",
   "metadata": {},
   "source": [
    "We now can know wich hours have more average comments:"
   ]
  },
  {
   "cell_type": "code",
   "execution_count": 20,
   "metadata": {
    "collapsed": false
   },
   "outputs": [
    {
     "name": "stdout",
     "output_type": "stream",
     "text": [
      "Top 5 hours for Ask Posts comments\n",
      "15: 38.59 average comments per post\n",
      "02: 23.81 average comments per post\n",
      "20: 21.52 average comments per post\n",
      "16: 16.80 average comments per post\n",
      "21: 16.01 average comments per post\n"
     ]
    }
   ],
   "source": [
    "print('Top 5 hours for Ask Posts comments')\n",
    "\n",
    "for hr in sorted_swap[0:5]:\n",
    "    post_time = str(hr[1])\n",
    "    avg_comments = hr[0]\n",
    "    final_string = \"{hr}: {n_comments:.2f} average comments per post\"\n",
    "    post_time_p = dt.datetime.strptime(post_time, '%H')\n",
    "    post_time_f = post_time_p.strftime('%H')\n",
    "    top_time = final_string.format(hr=post_time_f, n_comments=avg_comments)\n",
    "    print(top_time)"
   ]
  }
 ],
 "metadata": {
  "kernelspec": {
   "display_name": "Python 3",
   "language": "python",
   "name": "python3"
  },
  "language_info": {
   "codemirror_mode": {
    "name": "ipython",
    "version": 3
   },
   "file_extension": ".py",
   "mimetype": "text/x-python",
   "name": "python",
   "nbconvert_exporter": "python",
   "pygments_lexer": "ipython3",
   "version": "3.4.3"
  }
 },
 "nbformat": 4,
 "nbformat_minor": 2
}
