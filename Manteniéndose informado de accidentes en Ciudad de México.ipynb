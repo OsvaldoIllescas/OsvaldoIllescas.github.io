{
 "cells": [
  {
   "cell_type": "markdown",
   "metadata": {},
   "source": [
    "# Manteniéndose informado sobre accidentes en Ciudad de México"
   ]
  },
  {
   "cell_type": "markdown",
   "metadata": {},
   "source": [
    "Primero buscamos los cinco periodicos más populares en la Ciudad de México. Según [Prensa escrita](https://www.prensaescrita.com/america/df.php) son los siguientes:\n",
    "\n",
    "- Reforma\n",
    "- La Prensa\n",
    "- El Universal\n",
    "- El Gráfico\n",
    "- Capital México.\n",
    "\n",
    "Podemos utilizar BeatifulSoup para buscar cada link en los sitios de cada periódico y crear un archivo CSV con la noticia y el día en que se publicó.\n",
    "Haciendo un poco de limpieza, podemos crear un vocabulario con palabras que ocurran en noticias de accidentes, e iterar en cada noticia para buscar coincidencias y almacenar las noticias.\n",
    "\n",
    "Por último se puede programar el script para ejecutarse semanalmente usando la herramienta CRON en Linux o Task Scheduler en Windows."
   ]
  },
  {
   "cell_type": "code",
   "execution_count": 1,
   "metadata": {},
   "outputs": [],
   "source": [
    "import requests\n",
    "from bs4 import BeautifulSoup\n",
    "import csv\n",
    "from datetime import date\n",
    "import re\n",
    "import pandas as pd\n",
    "import string"
   ]
  },
  {
   "cell_type": "code",
   "execution_count": 2,
   "metadata": {},
   "outputs": [],
   "source": [
    "domainlist = [\"https://www.reforma.com/\", \"https://www.la-prensa.com.mx/\", \"https://www.eluniversal.com.mx/\", \"https://www.elgrafico.mx/\", \"https://www.capitalmexico.com.mx/\"]"
   ]
  },
  {
   "cell_type": "code",
   "execution_count": 3,
   "metadata": {},
   "outputs": [],
   "source": [
    "for d in domainlist:\n",
    "    news = requests.get(d)\n",
    "    newspaper = re.findall(r'://www.([\\w\\-\\.]+)',d)[0]\n",
    "    content = news.content\n",
    "    parser = BeautifulSoup(content, 'html.parser')\n",
    "    \n",
    "    with open('news-dataset.csv', \"w\", encoding=\"utf-8\") as csv_file:\n",
    "        columns = ['date', 'newspaper', 'newstitle']\n",
    "        writer = csv.DictWriter(csv_file, fieldnames=columns)\n",
    "        c = 1\n",
    "        row = {}\n",
    "        writer.writeheader()\n",
    "        for news in parser.find_all('a'):\n",
    "            row['date'] = date.today()\n",
    "            row['newspaper'] = newspaper\n",
    "            row['newstitle'] = news.text\n",
    "            writer.writerow(row)"
   ]
  },
  {
   "cell_type": "code",
   "execution_count": 4,
   "metadata": {},
   "outputs": [],
   "source": [
    "news_data = pd.read_csv('news-dataset.csv', encoding= 'unicode_escape')"
   ]
  },
  {
   "cell_type": "code",
   "execution_count": 5,
   "metadata": {},
   "outputs": [
    {
     "data": {
      "text/html": [
       "<div>\n",
       "<style scoped>\n",
       "    .dataframe tbody tr th:only-of-type {\n",
       "        vertical-align: middle;\n",
       "    }\n",
       "\n",
       "    .dataframe tbody tr th {\n",
       "        vertical-align: top;\n",
       "    }\n",
       "\n",
       "    .dataframe thead th {\n",
       "        text-align: right;\n",
       "    }\n",
       "</style>\n",
       "<table border=\"1\" class=\"dataframe\">\n",
       "  <thead>\n",
       "    <tr style=\"text-align: right;\">\n",
       "      <th></th>\n",
       "      <th>date</th>\n",
       "      <th>newspaper</th>\n",
       "      <th>newstitle</th>\n",
       "    </tr>\n",
       "  </thead>\n",
       "  <tbody>\n",
       "    <tr>\n",
       "      <th>0</th>\n",
       "      <td>2020-11-09</td>\n",
       "      <td>capitalmexico.com.mx</td>\n",
       "      <td>\\r\\nCapital MÃ©xico\\r\\n</td>\n",
       "    </tr>\n",
       "    <tr>\n",
       "      <th>1</th>\n",
       "      <td>2020-11-09</td>\n",
       "      <td>capitalmexico.com.mx</td>\n",
       "      <td>\\r\\n\\r\\n</td>\n",
       "    </tr>\n",
       "    <tr>\n",
       "      <th>2</th>\n",
       "      <td>2020-11-09</td>\n",
       "      <td>capitalmexico.com.mx</td>\n",
       "      <td>Inicio</td>\n",
       "    </tr>\n",
       "    <tr>\n",
       "      <th>3</th>\n",
       "      <td>2020-11-09</td>\n",
       "      <td>capitalmexico.com.mx</td>\n",
       "      <td>Nacional</td>\n",
       "    </tr>\n",
       "    <tr>\n",
       "      <th>4</th>\n",
       "      <td>2020-11-09</td>\n",
       "      <td>capitalmexico.com.mx</td>\n",
       "      <td>Estados</td>\n",
       "    </tr>\n",
       "  </tbody>\n",
       "</table>\n",
       "</div>"
      ],
      "text/plain": [
       "         date             newspaper                newstitle\n",
       "0  2020-11-09  capitalmexico.com.mx  \\r\\nCapital MÃ©xico\\r\\n\n",
       "1  2020-11-09  capitalmexico.com.mx                 \\r\\n\\r\\n\n",
       "2  2020-11-09  capitalmexico.com.mx                   Inicio\n",
       "3  2020-11-09  capitalmexico.com.mx                 Nacional\n",
       "4  2020-11-09  capitalmexico.com.mx                  Estados"
      ]
     },
     "execution_count": 5,
     "metadata": {},
     "output_type": "execute_result"
    }
   ],
   "source": [
    "news_data.head()"
   ]
  },
  {
   "cell_type": "code",
   "execution_count": 6,
   "metadata": {},
   "outputs": [],
   "source": [
    "news_data = news_data.dropna()"
   ]
  },
  {
   "cell_type": "code",
   "execution_count": 7,
   "metadata": {},
   "outputs": [
    {
     "data": {
      "text/plain": [
       "'!\"#$%&\\'()*+,-./:;<=>?@[\\\\]^_`{|}~'"
      ]
     },
     "execution_count": 7,
     "metadata": {},
     "output_type": "execute_result"
    }
   ],
   "source": [
    "string.punctuation"
   ]
  },
  {
   "cell_type": "code",
   "execution_count": 8,
   "metadata": {},
   "outputs": [],
   "source": [
    "def normalize(string):\n",
    "    string = string.lower()\n",
    "    string = re.sub(\"[^A-Za-z0-9\\s]\", \"\", string)\n",
    "    string = re.sub(\"\\s+\", \" \", string)\n",
    "    \n",
    "    return string"
   ]
  },
  {
   "cell_type": "code",
   "execution_count": 9,
   "metadata": {},
   "outputs": [],
   "source": [
    "news_data['normalized'] = news_data['newstitle'].apply(normalize)"
   ]
  },
  {
   "cell_type": "code",
   "execution_count": 10,
   "metadata": {},
   "outputs": [
    {
     "data": {
      "text/html": [
       "<div>\n",
       "<style scoped>\n",
       "    .dataframe tbody tr th:only-of-type {\n",
       "        vertical-align: middle;\n",
       "    }\n",
       "\n",
       "    .dataframe tbody tr th {\n",
       "        vertical-align: top;\n",
       "    }\n",
       "\n",
       "    .dataframe thead th {\n",
       "        text-align: right;\n",
       "    }\n",
       "</style>\n",
       "<table border=\"1\" class=\"dataframe\">\n",
       "  <thead>\n",
       "    <tr style=\"text-align: right;\">\n",
       "      <th></th>\n",
       "      <th>date</th>\n",
       "      <th>newspaper</th>\n",
       "      <th>newstitle</th>\n",
       "      <th>normalized</th>\n",
       "    </tr>\n",
       "  </thead>\n",
       "  <tbody>\n",
       "    <tr>\n",
       "      <th>0</th>\n",
       "      <td>2020-11-09</td>\n",
       "      <td>capitalmexico.com.mx</td>\n",
       "      <td>\\r\\nCapital MÃ©xico\\r\\n</td>\n",
       "      <td>capital mxico</td>\n",
       "    </tr>\n",
       "    <tr>\n",
       "      <th>1</th>\n",
       "      <td>2020-11-09</td>\n",
       "      <td>capitalmexico.com.mx</td>\n",
       "      <td>\\r\\n\\r\\n</td>\n",
       "      <td></td>\n",
       "    </tr>\n",
       "    <tr>\n",
       "      <th>2</th>\n",
       "      <td>2020-11-09</td>\n",
       "      <td>capitalmexico.com.mx</td>\n",
       "      <td>Inicio</td>\n",
       "      <td>inicio</td>\n",
       "    </tr>\n",
       "    <tr>\n",
       "      <th>3</th>\n",
       "      <td>2020-11-09</td>\n",
       "      <td>capitalmexico.com.mx</td>\n",
       "      <td>Nacional</td>\n",
       "      <td>nacional</td>\n",
       "    </tr>\n",
       "    <tr>\n",
       "      <th>4</th>\n",
       "      <td>2020-11-09</td>\n",
       "      <td>capitalmexico.com.mx</td>\n",
       "      <td>Estados</td>\n",
       "      <td>estados</td>\n",
       "    </tr>\n",
       "  </tbody>\n",
       "</table>\n",
       "</div>"
      ],
      "text/plain": [
       "         date             newspaper                newstitle       normalized\n",
       "0  2020-11-09  capitalmexico.com.mx  \\r\\nCapital MÃ©xico\\r\\n   capital mxico \n",
       "1  2020-11-09  capitalmexico.com.mx                 \\r\\n\\r\\n                 \n",
       "2  2020-11-09  capitalmexico.com.mx                   Inicio           inicio\n",
       "3  2020-11-09  capitalmexico.com.mx                 Nacional         nacional\n",
       "4  2020-11-09  capitalmexico.com.mx                  Estados          estados"
      ]
     },
     "execution_count": 10,
     "metadata": {},
     "output_type": "execute_result"
    }
   ],
   "source": [
    "news_data.head()"
   ]
  },
  {
   "cell_type": "code",
   "execution_count": 11,
   "metadata": {},
   "outputs": [],
   "source": [
    "news_data = news_data.reset_index(drop=True)"
   ]
  },
  {
   "cell_type": "code",
   "execution_count": 12,
   "metadata": {},
   "outputs": [
    {
     "data": {
      "text/html": [
       "<div>\n",
       "<style scoped>\n",
       "    .dataframe tbody tr th:only-of-type {\n",
       "        vertical-align: middle;\n",
       "    }\n",
       "\n",
       "    .dataframe tbody tr th {\n",
       "        vertical-align: top;\n",
       "    }\n",
       "\n",
       "    .dataframe thead th {\n",
       "        text-align: right;\n",
       "    }\n",
       "</style>\n",
       "<table border=\"1\" class=\"dataframe\">\n",
       "  <thead>\n",
       "    <tr style=\"text-align: right;\">\n",
       "      <th></th>\n",
       "      <th>date</th>\n",
       "      <th>newspaper</th>\n",
       "      <th>newstitle</th>\n",
       "      <th>normalized</th>\n",
       "    </tr>\n",
       "  </thead>\n",
       "  <tbody>\n",
       "    <tr>\n",
       "      <th>0</th>\n",
       "      <td>2020-11-09</td>\n",
       "      <td>capitalmexico.com.mx</td>\n",
       "      <td>\\r\\nCapital MÃ©xico\\r\\n</td>\n",
       "      <td>capital mxico</td>\n",
       "    </tr>\n",
       "    <tr>\n",
       "      <th>1</th>\n",
       "      <td>2020-11-09</td>\n",
       "      <td>capitalmexico.com.mx</td>\n",
       "      <td>\\r\\n\\r\\n</td>\n",
       "      <td></td>\n",
       "    </tr>\n",
       "    <tr>\n",
       "      <th>2</th>\n",
       "      <td>2020-11-09</td>\n",
       "      <td>capitalmexico.com.mx</td>\n",
       "      <td>Inicio</td>\n",
       "      <td>inicio</td>\n",
       "    </tr>\n",
       "    <tr>\n",
       "      <th>3</th>\n",
       "      <td>2020-11-09</td>\n",
       "      <td>capitalmexico.com.mx</td>\n",
       "      <td>Nacional</td>\n",
       "      <td>nacional</td>\n",
       "    </tr>\n",
       "    <tr>\n",
       "      <th>4</th>\n",
       "      <td>2020-11-09</td>\n",
       "      <td>capitalmexico.com.mx</td>\n",
       "      <td>Estados</td>\n",
       "      <td>estados</td>\n",
       "    </tr>\n",
       "  </tbody>\n",
       "</table>\n",
       "</div>"
      ],
      "text/plain": [
       "         date             newspaper                newstitle       normalized\n",
       "0  2020-11-09  capitalmexico.com.mx  \\r\\nCapital MÃ©xico\\r\\n   capital mxico \n",
       "1  2020-11-09  capitalmexico.com.mx                 \\r\\n\\r\\n                 \n",
       "2  2020-11-09  capitalmexico.com.mx                   Inicio           inicio\n",
       "3  2020-11-09  capitalmexico.com.mx                 Nacional         nacional\n",
       "4  2020-11-09  capitalmexico.com.mx                  Estados          estados"
      ]
     },
     "execution_count": 12,
     "metadata": {},
     "output_type": "execute_result"
    }
   ],
   "source": [
    "news_data.head()"
   ]
  },
  {
   "cell_type": "code",
   "execution_count": 13,
   "metadata": {},
   "outputs": [],
   "source": [
    "mask = (news_data['newstitle'].str.len() >= 20)\n",
    "news_data = news_data.loc[mask]"
   ]
  },
  {
   "cell_type": "code",
   "execution_count": 14,
   "metadata": {},
   "outputs": [
    {
     "data": {
      "text/html": [
       "<div>\n",
       "<style scoped>\n",
       "    .dataframe tbody tr th:only-of-type {\n",
       "        vertical-align: middle;\n",
       "    }\n",
       "\n",
       "    .dataframe tbody tr th {\n",
       "        vertical-align: top;\n",
       "    }\n",
       "\n",
       "    .dataframe thead th {\n",
       "        text-align: right;\n",
       "    }\n",
       "</style>\n",
       "<table border=\"1\" class=\"dataframe\">\n",
       "  <thead>\n",
       "    <tr style=\"text-align: right;\">\n",
       "      <th></th>\n",
       "      <th>date</th>\n",
       "      <th>newspaper</th>\n",
       "      <th>newstitle</th>\n",
       "      <th>normalized</th>\n",
       "    </tr>\n",
       "  </thead>\n",
       "  <tbody>\n",
       "    <tr>\n",
       "      <th>23</th>\n",
       "      <td>2020-11-09</td>\n",
       "      <td>capitalmexico.com.mx</td>\n",
       "      <td>PolicÃ­as de CancÃºn detonan armas durante man...</td>\n",
       "      <td>policas de cancn detonan armas durante manifes...</td>\n",
       "    </tr>\n",
       "    <tr>\n",
       "      <th>24</th>\n",
       "      <td>2020-11-09</td>\n",
       "      <td>capitalmexico.com.mx</td>\n",
       "      <td>Coahuila se declara en sesiÃ³n permanente para...</td>\n",
       "      <td>coahuila se declara en sesin permanente para e...</td>\n",
       "    </tr>\n",
       "    <tr>\n",
       "      <th>25</th>\n",
       "      <td>2020-11-09</td>\n",
       "      <td>capitalmexico.com.mx</td>\n",
       "      <td>ConfÃ­an diputados en evitar que se elimine el...</td>\n",
       "      <td>confan diputados en evitar que se elimine el f...</td>\n",
       "    </tr>\n",
       "    <tr>\n",
       "      <th>26</th>\n",
       "      <td>2020-11-09</td>\n",
       "      <td>capitalmexico.com.mx</td>\n",
       "      <td>La elecciÃ³n en EEUU tal vez matice algunos as...</td>\n",
       "      <td>la eleccin en eeuu tal vez matice algunos aspe...</td>\n",
       "    </tr>\n",
       "    <tr>\n",
       "      <th>27</th>\n",
       "      <td>2020-11-09</td>\n",
       "      <td>capitalmexico.com.mx</td>\n",
       "      <td>âHija de pâ¦â le dice diputada de Morena,...</td>\n",
       "      <td>hija de p le dice diputada de morena irma juan...</td>\n",
       "    </tr>\n",
       "  </tbody>\n",
       "</table>\n",
       "</div>"
      ],
      "text/plain": [
       "          date             newspaper  \\\n",
       "23  2020-11-09  capitalmexico.com.mx   \n",
       "24  2020-11-09  capitalmexico.com.mx   \n",
       "25  2020-11-09  capitalmexico.com.mx   \n",
       "26  2020-11-09  capitalmexico.com.mx   \n",
       "27  2020-11-09  capitalmexico.com.mx   \n",
       "\n",
       "                                            newstitle  \\\n",
       "23  PolicÃ­as de CancÃºn detonan armas durante man...   \n",
       "24  Coahuila se declara en sesiÃ³n permanente para...   \n",
       "25  ConfÃ­an diputados en evitar que se elimine el...   \n",
       "26  La elecciÃ³n en EEUU tal vez matice algunos as...   \n",
       "27  âHija de pâ¦â le dice diputada de Morena,...   \n",
       "\n",
       "                                           normalized  \n",
       "23  policas de cancn detonan armas durante manifes...  \n",
       "24  coahuila se declara en sesin permanente para e...  \n",
       "25  confan diputados en evitar que se elimine el f...  \n",
       "26  la eleccin en eeuu tal vez matice algunos aspe...  \n",
       "27  hija de p le dice diputada de morena irma juan...  "
      ]
     },
     "execution_count": 14,
     "metadata": {},
     "output_type": "execute_result"
    }
   ],
   "source": [
    "news_data.head()"
   ]
  },
  {
   "cell_type": "code",
   "execution_count": 15,
   "metadata": {},
   "outputs": [],
   "source": [
    "news_data['date'] = pd.to_datetime(news_data['date'])"
   ]
  },
  {
   "cell_type": "code",
   "execution_count": 16,
   "metadata": {},
   "outputs": [],
   "source": [
    "vocabulary = ['muere', 'muri', 'murieron', 'accidente', 'accident', 'accidentaron', 'choca', 'choc', 'chocaron', 'herido', 'herido', 'heridas']"
   ]
  },
  {
   "cell_type": "code",
   "execution_count": 17,
   "metadata": {},
   "outputs": [],
   "source": [
    "news_list = []\n",
    "\n",
    "for index, row in news_data.iterrows():\n",
    "    \n",
    "    new = row['normalized']\n",
    "    split_new = row['normalized'].split()\n",
    "  \n",
    "    for word in split_new:\n",
    "        if word in vocabulary:\n",
    "            news_list.append(news_data.loc[index, ['date', 'newspaper', 'newstitle']])\n",
    "        "
   ]
  },
  {
   "cell_type": "code",
   "execution_count": 18,
   "metadata": {},
   "outputs": [
    {
     "data": {
      "text/plain": [
       "[date                                       2020-11-09 00:00:00\n",
       " newspaper                                 capitalmexico.com.mx\n",
       " newstitle    A balazos muriÃ³ el peridosita Israel VÃ¡zquez...\n",
       " Name: 41, dtype: object,\n",
       " date                                       2020-11-09 00:00:00\n",
       " newspaper                                 capitalmexico.com.mx\n",
       " newstitle    Accidente de Mexibus en la MÃ©xico-Pachuca dej...\n",
       " Name: 61, dtype: object,\n",
       " date                                  2020-11-09 00:00:00\n",
       " newspaper                            capitalmexico.com.mx\n",
       " newstitle    MuriÃ³ el escritor Sandro Cohen por COVID-19\n",
       " Name: 88, dtype: object,\n",
       " date                                       2020-11-09 00:00:00\n",
       " newspaper                                 capitalmexico.com.mx\n",
       " newstitle    MuriÃ³ Vera Lynn, la Â«noviaÂ» de los soldados...\n",
       " Name: 118, dtype: object]"
      ]
     },
     "execution_count": 18,
     "metadata": {},
     "output_type": "execute_result"
    }
   ],
   "source": [
    "news_list"
   ]
  }
 ],
 "metadata": {
  "kernelspec": {
   "display_name": "Python 3",
   "language": "python",
   "name": "python3"
  },
  "language_info": {
   "codemirror_mode": {
    "name": "ipython",
    "version": 3
   },
   "file_extension": ".py",
   "mimetype": "text/x-python",
   "name": "python",
   "nbconvert_exporter": "python",
   "pygments_lexer": "ipython3",
   "version": "3.7.9"
  }
 },
 "nbformat": 4,
 "nbformat_minor": 4
}
