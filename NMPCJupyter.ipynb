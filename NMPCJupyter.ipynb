{
 "cells": [
  {
   "cell_type": "markdown",
   "metadata": {},
   "source": [
    "# Implementación de un NMPC en la simulación de un proceso de fermentación alcohólica usando Pyomo "
   ]
  },
  {
   "cell_type": "markdown",
   "metadata": {},
   "source": [
    "Partida (2017) llevó a cabo dos fermentaciones por lotes utilizando la levadura Saccharomyces cCerevisiae y azúcares fermentables de sorgo dulce como sustrato, con concentraciones iniciales de 165.88 g/L y 187.8 g/L respectivamente, obteniendo productividades de 2.16 g/L h y 1.83 g/L h, a partir de dicha investigación se determinaron los parámetros cinéticos de un modelo de crecimiento:\n",
    "\n",
    "$ \\mu=0.28\\left(\\frac{s}{86.56+s}\\right)\\left(1-\\frac{P}{85.7}\\right)\\left(1-\\frac{X}{56.2}\\right) $"
   ]
  },
  {
   "cell_type": "code",
   "execution_count": 1,
   "metadata": {},
   "outputs": [],
   "source": [
    "from pyomo.environ import *\n",
    "from pyomo.dae import *\n",
    "import numpy as np\n",
    "import matplotlib.pyplot as plt\n",
    "import csv\n",
    "from itertools import zip_longest"
   ]
  },
  {
   "cell_type": "code",
   "execution_count": 5,
   "metadata": {},
   "outputs": [],
   "source": [
    "m.t = ContinuousSet(bounds=(0,36)) #time"
   ]
  },
  {
   "cell_type": "code",
   "execution_count": 2,
   "metadata": {},
   "outputs": [],
   "source": [
    "m = ConcreteModel()"
   ]
  },
  {
   "cell_type": "markdown",
   "metadata": {},
   "source": [
    "A continuación se muestran un resumen de los valores de los parámetros utilizados para esta sección"
   ]
  },
  {
   "cell_type": "code",
   "execution_count": 3,
   "metadata": {},
   "outputs": [],
   "source": [
    "m.umax = 0.11   #Máximum growth (1/hr) #Calculated in ParEst.py\n",
    "m.Ks = 11.36    #Monod constant (g/L) #Calculated in ParEst.py\n",
    "m.Yxs = 0.023   #Biomass/Substrate yield (dimenssionless) #Simple calculation using experimental data\n",
    "m.Ypx = 17.67   #Product/Biomass yield(dimensionless) #Simple calculation using experimental data\n",
    "m.Xcrit = 56.2  #Critical biomass concentration (g/L) #From literature (Rivera,2013)\n",
    "m.Pcrit = 85.7  #Critical product concentration (g/L) #From literature (Rivera,2013)\n",
    "m.den = 1050    #Density (kg/m^3) #From literature (Wu, 2015)\n",
    "m.Cp = 3.67     #Heat capacity of juice (kJ/kg °C) #Simple calculation with Teja's formula (Teja, 1983)\n",
    "m.Hs = -91.2    #Heat of reaction (kJ/mol) #From literature (Gee, 1988)\n",
    "m.Tc = 24       #Cooling water temperature (°C)\n",
    "m.Ts = 30       #Setpoint (°C)\n",
    "m.Con = 5.5     #Conversion factor\n",
    "m.Kd = 1.44*10**28  #Pre-exponential factor(kJ/kmol) #From literature (Félix, 2014)\n",
    "m.Ed = 177700   #Activation energy for cell death (kJ/kmol) #From literature (Phisalaphong, 2006)\n",
    "m.R = 8.314     #Gas constant (kJ/kmol K)"
   ]
  },
  {
   "cell_type": "code",
   "execution_count": 6,
   "metadata": {},
   "outputs": [],
   "source": [
    "#Declaring dependent variables\n",
    "m.S = Var(m.t)  #Substrate (g/L)\n",
    "m.X = Var(m.t)  #Biomass (g/L)\n",
    "m.P = Var(m.t)  #Product (g/L)\n",
    "m.T = Var(m.t)  #Temperature (° C)\n",
    "m.u = Var(m.t, initialize=0, bounds=(0,1000)) #Cooling rate (kJ/h m^3 °C)"
   ]
  },
  {
   "cell_type": "code",
   "execution_count": 7,
   "metadata": {},
   "outputs": [],
   "source": [
    "#Declaring derivatives\n",
    "m.dSdt = DerivativeVar(m.S, wrt=m.t)\n",
    "m.dXdt = DerivativeVar(m.X, wrt=m.t)\n",
    "m.dPdt = DerivativeVar(m.P, wrt=m.t)\n",
    "m.dTdt = DerivativeVar(m.T, wrt=m.t)"
   ]
  },
  {
   "cell_type": "markdown",
   "metadata": {},
   "source": [
    "Posteriormente se programaron los modelos del proceso para reflejar el comportamiento de temperatura sin control y el efecto de ésta sobre la concentración de biomasa. Las ecuaciones siguientes muestran los balances de materia de biomasa, sustrato y producto propuestos por Shuler y Kargi (2002): \n",
    "\n",
    "$ \\frac{dX}{dt}=\\left(\\mu_{max}\\frac{S}{S+K_s}\\ -\\ Ae^{\\left(-E_D/RT\\right)}\\right)\\left(1-\\frac{X}{X_c}\\right)\\left(1-\\frac{P}{P_c}\\right)X $\n",
    "\n",
    "$ \\frac{dS}{dt}=\\left(\\mu_{max}\\frac{S}{S+K_s}\\ -\\ Ae^{\\left(-E_D/RT\\right)}\\right)\\left(1-\\frac{X}{X_c}\\right)\\left(1-\\frac{P}{P_c}\\right)\\frac{X}{Y_{X/S}} $\n",
    "\n",
    "$ \\frac{dP}{dt}=Y_{P/X}\\ast\\mu_{max}\\frac{S}{S+K_s}\\left(1-\\frac{X}{X_c}\\right)\\left(1-\\frac{P}{P_c}\\right)X $"
   ]
  },
  {
   "cell_type": "markdown",
   "metadata": {},
   "source": [
    "Para la implementación del controlador NMPC, se realizó una modificación al modelo de temperatura, considerando el efecto de la tasa de enfriamiento u como se muestra en la ecuación siguiente (Gee y Ramirez, 1988): \n",
    "\n",
    "$ \\frac{dT}{dt}=\\frac{1}{\\rho C_p}∆HSdSdt-u(T-Tc) $"
   ]
  },
  {
   "cell_type": "markdown",
   "metadata": {},
   "source": [
    "El controlador se trata como un problema de optimización que tendrá como función objetivo la función costo de un controlador NMPC que proponen Puigjaner y Heyen (2007); este se muestra en la ecuación siguiente:\n",
    "\n",
    "$ J=\\sum_{j=1}^{N}\\left[T\\left(k+j\\right)-Ts\\left(k+j\\right)\\right]^2+\\sum_{j=1}^{N_U}{\\mathrm{\\Delta u}\\left(\\kappa+j-1\\right)^2}$"
   ]
  },
  {
   "cell_type": "markdown",
   "metadata": {},
   "source": [
    "El problema de optimización se encuentra a continuación\n",
    "$$\n",
    "min\\ J\\left[T\\left(k\\right),u\\left(k\\right)\\right] \\\\\n",
    "\\frac{dy}{dt}=f\\left[y\\left(k\\right),u\\left(k\\right)\\right] \\\\\n",
    "h\\left[y\\left(k\\right),u\\left(k\\right)\\right]=0 \\\\\n",
    "g\\left[y\\left(k\\right),u\\left(k\\right)\\right]\\geq0 \\\\\n",
    "0\\le u\\le1000 \\\\\n",
    "28\\le T\\le32 \\\\\n",
    "$$"
   ]
  },
  {
   "cell_type": "code",
   "execution_count": 8,
   "metadata": {},
   "outputs": [],
   "source": [
    "def _dX(m, t):\n",
    "\n",
    "    return m.dXdt[t] == ((m.umax * (m.S[t]/(m.Ks + m.S[t])) * (1-(m.X[t]/m.Xcrit)) * (1-(m.P[t]/m.Pcrit)) - (m.Kd*(exp(-1*m.Ed/(m.R*(m.T[t]+273)))))) * m.X[t]) \n",
    "\n",
    "m.dX = Constraint(m.t, rule=_dX)\n",
    "\n",
    "#Biomass initial concentration\n",
    "def _icX(X):\n",
    "    \n",
    "    return m.X[0] == 0.74\n",
    "\n",
    "m.icX = Constraint(rule=_icX)\n",
    "\n",
    "def _dS(m, t):\n",
    "\n",
    "    return m.dSdt[t] == -1/m.Yxs * ((m.umax * (m.S[t]/(m.Ks + m.S[t])) * (1-(m.X[t]/m.Xcrit)) * (1-(m.P[t]/m.Pcrit))) * m.X[t])\n",
    "\n",
    "m.dS = Constraint(m.t, rule=_dS)\n",
    "\n",
    "#Substrate initial concentration\n",
    "def _icS(S):\n",
    "    \n",
    "    return m.S[0] == 165.88\n",
    "\n",
    "m.icS = Constraint(rule=_icS)\n",
    "\n",
    "def _dP(m, t):\n",
    "\n",
    "    return m.dPdt[t] == m.Ypx * ((m.umax * (m.S[t]/(m.Ks + m.S[t])) * (1-(m.X[t]/m.Xcrit)) * (1-(m.P[t]/m.Pcrit))) * m.X[t]) \n",
    "\n",
    "m.dP = Constraint(m.t, rule=_dP)\n",
    "\n",
    "#Product initial concentration    \n",
    "def _icP(P):\n",
    "\n",
    "    return m.P[0] == 0\n",
    "\n",
    "m.icP = Constraint(rule=_icP)\n",
    "\n",
    "def _dT(m, t):\n",
    "    \n",
    "    return m.dTdt[t] == (1/(m.Cp*m.den))*(m.Hs*m.Con*((-1/m.Yxs * ((m.umax * (m.S[t]/(m.Ks + m.S[t])) * (1-(m.X[t]/m.Xcrit)) * (1-(m.P[t]/m.Pcrit)) - (m.Kd*(exp(-1*m.Ed/(m.R*(m.T[t]+273)))))) * m.X[t])))-(m.u[t]*(m.T[t]-m.Tc)))\n",
    "            \n",
    "m.dT = Constraint(m.t, rule=_dT)\n",
    "\n",
    "#Initial temperature\n",
    "def _icT (T):\n",
    "    \n",
    "    return m.T[0] == 23\n",
    "\n",
    "m.icT = Constraint(rule=_icT)  \n",
    "\n",
    "#Upper limit\n",
    "def _Tu(m, t):\n",
    "    \n",
    "    return m.T[t] <= 32\n",
    "\n",
    "m.Tu = Constraint(m.t, rule=_Tu)\n",
    "\n",
    "#Lower limit\n",
    "def _Tl(m, t):\n",
    "    \n",
    "    return m.T[t] >= 23\n",
    "    \n",
    "m.Tl = Constraint(m.t, rule=_Tl)\n",
    "\n",
    "#Objective function\n",
    "m.obj = Objective(\n",
    "    expr = sum((m.T[t] - m.Ts)**2 for t in m.t),\n",
    "    sense = minimize)   "
   ]
  },
  {
   "cell_type": "code",
   "execution_count": 9,
   "metadata": {},
   "outputs": [
    {
     "data": {
      "text/plain": [
       "<pyomo.core.base.PyomoModel.ConcreteModel at 0x1be8b129600>"
      ]
     },
     "execution_count": 9,
     "metadata": {},
     "output_type": "execute_result"
    }
   ],
   "source": [
    "#Choosing discretization scheme\n",
    "disc = TransformationFactory('dae.collocation')\n",
    "\n",
    "#Discretizing the model; piecewise profile\n",
    "disc.apply_to(m, nfe=36, ncp=2)\n",
    "disc.reduce_collocation_points(m, var=m.u, ncp=1, contset=m.t)"
   ]
  },
  {
   "cell_type": "code",
   "execution_count": 10,
   "metadata": {},
   "outputs": [
    {
     "name": "stdout",
     "output_type": "stream",
     "text": [
      "# ==========================================================\n",
      "# = Solver Results                                         =\n",
      "# ==========================================================\n",
      "# ----------------------------------------------------------\n",
      "#   Problem Information\n",
      "# ----------------------------------------------------------\n",
      "Problem: \n",
      "- Lower bound: -inf\n",
      "  Upper bound: inf\n",
      "  Number of objectives: 1\n",
      "  Number of constraints: 766\n",
      "  Number of variables: 657\n",
      "  Sense: unknown\n",
      "# ----------------------------------------------------------\n",
      "#   Solver Information\n",
      "# ----------------------------------------------------------\n",
      "Solver: \n",
      "- Status: ok\n",
      "  Message: Ipopt 3.11.1\\x3a Optimal Solution Found\n",
      "  Termination condition: optimal\n",
      "  Id: 0\n",
      "  Error rc: 0\n",
      "  Time: 0.33905816078186035\n",
      "# ----------------------------------------------------------\n",
      "#   Solution Information\n",
      "# ----------------------------------------------------------\n",
      "Solution: \n",
      "- number of solutions: 0\n",
      "  number of solutions displayed: 0\n"
     ]
    }
   ],
   "source": [
    "#Choosing solver; solving the model\n",
    "SolverFactory('ipopt').solve(m).write()"
   ]
  },
  {
   "cell_type": "code",
   "execution_count": 11,
   "metadata": {},
   "outputs": [],
   "source": [
    "#Extracting values\n",
    "t = list(m.t)\n",
    "T = [value(m.T[t]) for t in m.t]\n",
    "u = [value(m.u[t]) for t in m.t]\n",
    "X = [value(m.X[t]) for t in m.t]\n",
    "P = [value(m.P[t]) for t in m.t]\n",
    "S = [value(m.S[t]) for t in m.t]"
   ]
  },
  {
   "cell_type": "code",
   "execution_count": 12,
   "metadata": {},
   "outputs": [],
   "source": [
    "%matplotlib inline"
   ]
  },
  {
   "cell_type": "code",
   "execution_count": 13,
   "metadata": {},
   "outputs": [
    {
     "data": {
      "image/png": "[encoded data removed]",
      "text/plain": [
       "<Figure size 432x288 with 1 Axes>"
      ]
     },
     "metadata": {
      "needs_background": "light"
     },
     "output_type": "display_data"
    },
    {
     "data": {
      "image/png": "[encoded data removed]",
      "text/plain": [
       "<Figure size 432x288 with 1 Axes>"
      ]
     },
     "metadata": {
      "needs_background": "light"
     },
     "output_type": "display_data"
    },
    {
     "data": {
      "image/png": "[encoded data removed]",
      "text/plain": [
       "<Figure size 432x288 with 1 Axes>"
      ]
     },
     "metadata": {
      "needs_background": "light"
     },
     "output_type": "display_data"
    }
   ],
   "source": [
    "#Plotting cooling rate\n",
    "plt.figure('Tasa de enfriamiento')\n",
    "plt.title('Tasa de enfriamiento')\n",
    "plt.plot(t, u, 'b-', label='u')\n",
    "plt.xlabel('Tiempo')\n",
    "plt.ylabel('u (Kj/hr m3 °C)')\n",
    "plt.legend()\n",
    "plt.grid()\n",
    "plt.show()\n",
    "\n",
    "#Plotting temperature\n",
    "plt.figure('Temperatura')\n",
    "plt.title('Temperatura')\n",
    "plt.plot(t, T, 'orange', label='T')\n",
    "plt.legend()\n",
    "plt.ylabel('T (°C)')\n",
    "plt.ylim([0, 35])\n",
    "plt.xlabel('Tiempo (hr)')\n",
    "plt.grid()\n",
    "plt.show()\n",
    "\n",
    "#Plotting biomass\n",
    "plt.figure('Biomasa')\n",
    "plt.title('Biomasa')\n",
    "plt.plot(t, X, 'g',label='X')\n",
    "plt.legend()\n",
    "plt.ylabel('Biomasa (g/L)')\n",
    "plt.xlabel('Tiempo (hr)')\n",
    "plt.grid()\n",
    "plt.show()"
   ]
  }
 ],
 "metadata": {
  "kernelspec": {
   "display_name": "Python 3",
   "language": "python",
   "name": "python3"
  },
  "language_info": {
   "codemirror_mode": {
    "name": "ipython",
    "version": 3
   },
   "file_extension": ".py",
   "mimetype": "text/x-python",
   "name": "python",
   "nbconvert_exporter": "python",
   "pygments_lexer": "ipython3",
   "version": "3.8.3"
  }
 },
 "nbformat": 4,
 "nbformat_minor": 4
}
